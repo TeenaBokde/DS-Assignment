{
  "nbformat": 4,
  "nbformat_minor": 0,
  "metadata": {
    "colab": {
      "provenance": []
    },
    "kernelspec": {
      "name": "python3",
      "display_name": "Python 3"
    },
    "language_info": {
      "name": "python"
    }
  },
  "cells": [
    {
      "cell_type": "markdown",
      "source": [
        "## **Teena Bokde**\n",
        "### **Data Science - Batch OCT 2024 (Pune) - Assignment 4**"
      ],
      "metadata": {
        "id": "-1eFHURXvwnK"
      }
    },
    {
      "cell_type": "markdown",
      "source": [
        "**HYPOTHESIS TESTING (CHI-SQUARE TEST)**"
      ],
      "metadata": {
        "id": "woPdL0fowOe4"
      }
    },
    {
      "cell_type": "code",
      "source": [
        "import numpy as np\n",
        "from scipy.stats import chi2\n"
      ],
      "metadata": {
        "id": "lR3Pgd76wffe"
      },
      "execution_count": 1,
      "outputs": []
    },
    {
      "cell_type": "code",
      "source": [
        "# Define the contingency table\n",
        "contingency_table = np.array([\n",
        "    [50, 70],\n",
        "    [80, 100],\n",
        "    [60, 90],\n",
        "    [30, 50],\n",
        "    [20, 50]])\n",
        "print(contingency_table)"
      ],
      "metadata": {
        "colab": {
          "base_uri": "https://localhost:8080/"
        },
        "id": "5GtkKehUDKXX",
        "outputId": "3cd79bd0-de84-443a-e0f4-f0a6fcceeb9f"
      },
      "execution_count": 2,
      "outputs": [
        {
          "output_type": "stream",
          "name": "stdout",
          "text": [
            "[[ 50  70]\n",
            " [ 80 100]\n",
            " [ 60  90]\n",
            " [ 30  50]\n",
            " [ 20  50]]\n"
          ]
        }
      ]
    },
    {
      "cell_type": "code",
      "source": [
        "# Define the row and column totals\n",
        "row_totals = np.sum(contingency_table, axis=1)\n",
        "col_totals = np.sum(contingency_table, axis=0)\n",
        "print(row_totals)\n",
        "print(col_totals)"
      ],
      "metadata": {
        "colab": {
          "base_uri": "https://localhost:8080/"
        },
        "id": "CBZNny76DO9Q",
        "outputId": "8bb23ec3-db8d-46f6-fc7a-0066e18f0b51"
      },
      "execution_count": 3,
      "outputs": [
        {
          "output_type": "stream",
          "name": "stdout",
          "text": [
            "[120 180 150  80  70]\n",
            "[240 360]\n"
          ]
        }
      ]
    },
    {
      "cell_type": "code",
      "source": [
        "# Define the total number of observations\n",
        "total_observations = np.sum(contingency_table)\n",
        "print(total_observations)"
      ],
      "metadata": {
        "colab": {
          "base_uri": "https://localhost:8080/"
        },
        "id": "Pk4gU9slDTVB",
        "outputId": "6be361da-e923-40b2-8619-79357e55e0dd"
      },
      "execution_count": 4,
      "outputs": [
        {
          "output_type": "stream",
          "name": "stdout",
          "text": [
            "600\n"
          ]
        }
      ]
    },
    {
      "cell_type": "markdown",
      "source": [
        "1. State the Hypotheses\n",
        "\n",
        "\n"
      ],
      "metadata": {
        "id": "Py2X50FSDZI4"
      }
    },
    {
      "cell_type": "code",
      "source": [
        "print(\"H0: There is no significant association between the type of smart home device purchased and the customer satisfaction level.\")\n",
        "print(\"H1: There is a significant association between the type of smart home device purchased and the customer satisfaction level.\")"
      ],
      "metadata": {
        "colab": {
          "base_uri": "https://localhost:8080/"
        },
        "id": "2jgBIWv4Dghp",
        "outputId": "7eec5808-c1d2-4f4d-8382-8d4c6a8dc792"
      },
      "execution_count": 5,
      "outputs": [
        {
          "output_type": "stream",
          "name": "stdout",
          "text": [
            "H0: There is no significant association between the type of smart home device purchased and the customer satisfaction level.\n",
            "H1: There is a significant association between the type of smart home device purchased and the customer satisfaction level.\n"
          ]
        }
      ]
    },
    {
      "cell_type": "markdown",
      "source": [
        "2.Compute the Chi-Square Statistic"
      ],
      "metadata": {
        "id": "Rk-QGVQwDxCI"
      }
    },
    {
      "cell_type": "code",
      "source": [
        "expected_frequencies = np.outer(row_totals, col_totals) / total_observations\n",
        "chi_square_statistic = np.sum((contingency_table - expected_frequencies) ** 2 / expected_frequencies)\n",
        "print(\"Chi-Square Statistic:\", chi_square_statistic)"
      ],
      "metadata": {
        "colab": {
          "base_uri": "https://localhost:8080/"
        },
        "id": "sNoUbrVLDzhm",
        "outputId": "a4fc20c2-8f70-4492-feb4-21af2019b9d9"
      },
      "execution_count": 6,
      "outputs": [
        {
          "output_type": "stream",
          "name": "stdout",
          "text": [
            "Chi-Square Statistic: 5.638227513227513\n"
          ]
        }
      ]
    },
    {
      "cell_type": "markdown",
      "source": [
        "3.Determine the Critical Value"
      ],
      "metadata": {
        "id": "YZi6LTTnENoL"
      }
    },
    {
      "cell_type": "code",
      "source": [
        "degrees_of_freedom = (contingency_table.shape[0] - 1) * (contingency_table.shape[1] - 1)\n",
        "critical_value = chi2.ppf(1 - 0.05, degrees_of_freedom)\n",
        "print(\"Critical Value:\", critical_value)"
      ],
      "metadata": {
        "colab": {
          "base_uri": "https://localhost:8080/"
        },
        "id": "6oBACvArES4A",
        "outputId": "cf9e50f4-e01b-4940-ff3e-178420743310"
      },
      "execution_count": 7,
      "outputs": [
        {
          "output_type": "stream",
          "name": "stdout",
          "text": [
            "Critical Value: 9.487729036781154\n"
          ]
        }
      ]
    },
    {
      "cell_type": "markdown",
      "source": [
        "4.Make a Decision"
      ],
      "metadata": {
        "id": "tnUNxFghEZJu"
      }
    },
    {
      "cell_type": "code",
      "source": [
        "# Make a Decision\n",
        "if chi_square_statistic > critical_value:\n",
        "    print(\"Reject the null hypothesis. There is a significant association between the type of smart home device purchased and the customer satisfaction level.\")\n",
        "else:\n",
        "    print(\"Fail to reject the null hypothesis. There is no significant association between the type of smart home device purchased and the customer satisfaction level.\")"
      ],
      "metadata": {
        "colab": {
          "base_uri": "https://localhost:8080/"
        },
        "id": "hSh6oqr_EbBP",
        "outputId": "eea45347-8f8a-4389-8b9d-810842ccdf1a"
      },
      "execution_count": 8,
      "outputs": [
        {
          "output_type": "stream",
          "name": "stdout",
          "text": [
            "Fail to reject the null hypothesis. There is no significant association between the type of smart home device purchased and the customer satisfaction level.\n"
          ]
        }
      ]
    }
  ]
}