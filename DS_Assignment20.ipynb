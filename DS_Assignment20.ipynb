{
  "cells": [
    {
      "cell_type": "markdown",
      "id": "69c50531-a6ff-4764-9343-531610240949",
      "metadata": {
        "id": "69c50531-a6ff-4764-9343-531610240949"
      },
      "source": [
        "# Teena Bokde\n",
        "# Data Science - Batch Oct 2024 (Pune) - Assignment 20\n",
        "# Timeseries"
      ]
    },
    {
      "cell_type": "markdown",
      "id": "b06b611e-6a77-4815-9b4f-e765b18d495b",
      "metadata": {
        "id": "b06b611e-6a77-4815-9b4f-e765b18d495b"
      },
      "source": [
        "# Task 1: Data Preparation and Exploration"
      ]
    },
    {
      "cell_type": "code",
      "execution_count": 1,
      "id": "b024d3d3-b2d6-42d3-b72d-57361e9e7317",
      "metadata": {
        "id": "b024d3d3-b2d6-42d3-b72d-57361e9e7317"
      },
      "outputs": [],
      "source": [
        "import pandas as pd\n",
        "import numpy as np\n",
        "import matplotlib.pyplot as plt\n",
        "from statsmodels.tsa.arima.model import ARIMA\n",
        "from statsmodels.tsa.seasonal import seasonal_decompose\n",
        "from statsmodels.tsa.stattools import adfuller\n",
        "from statsmodels.graphics.tsaplots import plot_acf, plot_pacf\n",
        "from statsmodels.tsa.holtwinters import SimpleExpSmoothing, ExponentialSmoothing\n",
        "from sklearn.metrics import mean_absolute_error, mean_squared_error, mean_absolute_percentage_error"
      ]
    },
    {
      "cell_type": "markdown",
      "id": "f16d2680-cc94-4a21-af27-a09f41e8c3a3",
      "metadata": {
        "id": "f16d2680-cc94-4a21-af27-a09f41e8c3a3"
      },
      "source": [
        "Load the dataset"
      ]
    },
    {
      "cell_type": "code",
      "execution_count": 2,
      "id": "b2e05604-5860-4838-a468-95d46e97298e",
      "metadata": {
        "id": "b2e05604-5860-4838-a468-95d46e97298e"
      },
      "outputs": [],
      "source": [
        "df = pd.read_csv('exchange_rate.csv')"
      ]
    },
    {
      "cell_type": "code",
      "execution_count": 3,
      "id": "4784c4b7-736a-4504-8fce-56219463a58e",
      "metadata": {
        "colab": {
          "base_uri": "https://localhost:8080/",
          "height": 423
        },
        "id": "4784c4b7-736a-4504-8fce-56219463a58e",
        "outputId": "dab01532-61ad-4086-eaab-070b35de08b1"
      },
      "outputs": [
        {
          "output_type": "execute_result",
          "data": {
            "text/plain": [
              "                  date   Ex_rate\n",
              "0     01-01-1990 00:00  0.785500\n",
              "1     02-01-1990 00:00  0.781800\n",
              "2     03-01-1990 00:00  0.786700\n",
              "3     04-01-1990 00:00  0.786000\n",
              "4     05-01-1990 00:00  0.784900\n",
              "...                ...       ...\n",
              "7583  06-10-2010 00:00  0.718494\n",
              "7584  07-10-2010 00:00  0.721839\n",
              "7585  08-10-2010 00:00  0.723197\n",
              "7586  09-10-2010 00:00  0.720825\n",
              "7587  10-10-2010 00:00  0.720825\n",
              "\n",
              "[7588 rows x 2 columns]"
            ],
            "text/html": [
              "\n",
              "  <div id=\"df-0c6d85f5-2028-42a1-ade2-4d4f66429565\" class=\"colab-df-container\">\n",
              "    <div>\n",
              "<style scoped>\n",
              "    .dataframe tbody tr th:only-of-type {\n",
              "        vertical-align: middle;\n",
              "    }\n",
              "\n",
              "    .dataframe tbody tr th {\n",
              "        vertical-align: top;\n",
              "    }\n",
              "\n",
              "    .dataframe thead th {\n",
              "        text-align: right;\n",
              "    }\n",
              "</style>\n",
              "<table border=\"1\" class=\"dataframe\">\n",
              "  <thead>\n",
              "    <tr style=\"text-align: right;\">\n",
              "      <th></th>\n",
              "      <th>date</th>\n",
              "      <th>Ex_rate</th>\n",
              "    </tr>\n",
              "  </thead>\n",
              "  <tbody>\n",
              "    <tr>\n",
              "      <th>0</th>\n",
              "      <td>01-01-1990 00:00</td>\n",
              "      <td>0.785500</td>\n",
              "    </tr>\n",
              "    <tr>\n",
              "      <th>1</th>\n",
              "      <td>02-01-1990 00:00</td>\n",
              "      <td>0.781800</td>\n",
              "    </tr>\n",
              "    <tr>\n",
              "      <th>2</th>\n",
              "      <td>03-01-1990 00:00</td>\n",
              "      <td>0.786700</td>\n",
              "    </tr>\n",
              "    <tr>\n",
              "      <th>3</th>\n",
              "      <td>04-01-1990 00:00</td>\n",
              "      <td>0.786000</td>\n",
              "    </tr>\n",
              "    <tr>\n",
              "      <th>4</th>\n",
              "      <td>05-01-1990 00:00</td>\n",
              "      <td>0.784900</td>\n",
              "    </tr>\n",
              "    <tr>\n",
              "      <th>...</th>\n",
              "      <td>...</td>\n",
              "      <td>...</td>\n",
              "    </tr>\n",
              "    <tr>\n",
              "      <th>7583</th>\n",
              "      <td>06-10-2010 00:00</td>\n",
              "      <td>0.718494</td>\n",
              "    </tr>\n",
              "    <tr>\n",
              "      <th>7584</th>\n",
              "      <td>07-10-2010 00:00</td>\n",
              "      <td>0.721839</td>\n",
              "    </tr>\n",
              "    <tr>\n",
              "      <th>7585</th>\n",
              "      <td>08-10-2010 00:00</td>\n",
              "      <td>0.723197</td>\n",
              "    </tr>\n",
              "    <tr>\n",
              "      <th>7586</th>\n",
              "      <td>09-10-2010 00:00</td>\n",
              "      <td>0.720825</td>\n",
              "    </tr>\n",
              "    <tr>\n",
              "      <th>7587</th>\n",
              "      <td>10-10-2010 00:00</td>\n",
              "      <td>0.720825</td>\n",
              "    </tr>\n",
              "  </tbody>\n",
              "</table>\n",
              "<p>7588 rows × 2 columns</p>\n",
              "</div>\n",
              "    <div class=\"colab-df-buttons\">\n",
              "\n",
              "  <div class=\"colab-df-container\">\n",
              "    <button class=\"colab-df-convert\" onclick=\"convertToInteractive('df-0c6d85f5-2028-42a1-ade2-4d4f66429565')\"\n",
              "            title=\"Convert this dataframe to an interactive table.\"\n",
              "            style=\"display:none;\">\n",
              "\n",
              "  <svg xmlns=\"http://www.w3.org/2000/svg\" height=\"24px\" viewBox=\"0 -960 960 960\">\n",
              "    <path d=\"M120-120v-720h720v720H120Zm60-500h600v-160H180v160Zm220 220h160v-160H400v160Zm0 220h160v-160H400v160ZM180-400h160v-160H180v160Zm440 0h160v-160H620v160ZM180-180h160v-160H180v160Zm440 0h160v-160H620v160Z\"/>\n",
              "  </svg>\n",
              "    </button>\n",
              "\n",
              "  <style>\n",
              "    .colab-df-container {\n",
              "      display:flex;\n",
              "      gap: 12px;\n",
              "    }\n",
              "\n",
              "    .colab-df-convert {\n",
              "      background-color: #E8F0FE;\n",
              "      border: none;\n",
              "      border-radius: 50%;\n",
              "      cursor: pointer;\n",
              "      display: none;\n",
              "      fill: #1967D2;\n",
              "      height: 32px;\n",
              "      padding: 0 0 0 0;\n",
              "      width: 32px;\n",
              "    }\n",
              "\n",
              "    .colab-df-convert:hover {\n",
              "      background-color: #E2EBFA;\n",
              "      box-shadow: 0px 1px 2px rgba(60, 64, 67, 0.3), 0px 1px 3px 1px rgba(60, 64, 67, 0.15);\n",
              "      fill: #174EA6;\n",
              "    }\n",
              "\n",
              "    .colab-df-buttons div {\n",
              "      margin-bottom: 4px;\n",
              "    }\n",
              "\n",
              "    [theme=dark] .colab-df-convert {\n",
              "      background-color: #3B4455;\n",
              "      fill: #D2E3FC;\n",
              "    }\n",
              "\n",
              "    [theme=dark] .colab-df-convert:hover {\n",
              "      background-color: #434B5C;\n",
              "      box-shadow: 0px 1px 3px 1px rgba(0, 0, 0, 0.15);\n",
              "      filter: drop-shadow(0px 1px 2px rgba(0, 0, 0, 0.3));\n",
              "      fill: #FFFFFF;\n",
              "    }\n",
              "  </style>\n",
              "\n",
              "    <script>\n",
              "      const buttonEl =\n",
              "        document.querySelector('#df-0c6d85f5-2028-42a1-ade2-4d4f66429565 button.colab-df-convert');\n",
              "      buttonEl.style.display =\n",
              "        google.colab.kernel.accessAllowed ? 'block' : 'none';\n",
              "\n",
              "      async function convertToInteractive(key) {\n",
              "        const element = document.querySelector('#df-0c6d85f5-2028-42a1-ade2-4d4f66429565');\n",
              "        const dataTable =\n",
              "          await google.colab.kernel.invokeFunction('convertToInteractive',\n",
              "                                                    [key], {});\n",
              "        if (!dataTable) return;\n",
              "\n",
              "        const docLinkHtml = 'Like what you see? Visit the ' +\n",
              "          '<a target=\"_blank\" href=https://colab.research.google.com/notebooks/data_table.ipynb>data table notebook</a>'\n",
              "          + ' to learn more about interactive tables.';\n",
              "        element.innerHTML = '';\n",
              "        dataTable['output_type'] = 'display_data';\n",
              "        await google.colab.output.renderOutput(dataTable, element);\n",
              "        const docLink = document.createElement('div');\n",
              "        docLink.innerHTML = docLinkHtml;\n",
              "        element.appendChild(docLink);\n",
              "      }\n",
              "    </script>\n",
              "  </div>\n",
              "\n",
              "\n",
              "<div id=\"df-578ebb33-8628-4ef1-a23d-e3da0b22828b\">\n",
              "  <button class=\"colab-df-quickchart\" onclick=\"quickchart('df-578ebb33-8628-4ef1-a23d-e3da0b22828b')\"\n",
              "            title=\"Suggest charts\"\n",
              "            style=\"display:none;\">\n",
              "\n",
              "<svg xmlns=\"http://www.w3.org/2000/svg\" height=\"24px\"viewBox=\"0 0 24 24\"\n",
              "     width=\"24px\">\n",
              "    <g>\n",
              "        <path d=\"M19 3H5c-1.1 0-2 .9-2 2v14c0 1.1.9 2 2 2h14c1.1 0 2-.9 2-2V5c0-1.1-.9-2-2-2zM9 17H7v-7h2v7zm4 0h-2V7h2v10zm4 0h-2v-4h2v4z\"/>\n",
              "    </g>\n",
              "</svg>\n",
              "  </button>\n",
              "\n",
              "<style>\n",
              "  .colab-df-quickchart {\n",
              "      --bg-color: #E8F0FE;\n",
              "      --fill-color: #1967D2;\n",
              "      --hover-bg-color: #E2EBFA;\n",
              "      --hover-fill-color: #174EA6;\n",
              "      --disabled-fill-color: #AAA;\n",
              "      --disabled-bg-color: #DDD;\n",
              "  }\n",
              "\n",
              "  [theme=dark] .colab-df-quickchart {\n",
              "      --bg-color: #3B4455;\n",
              "      --fill-color: #D2E3FC;\n",
              "      --hover-bg-color: #434B5C;\n",
              "      --hover-fill-color: #FFFFFF;\n",
              "      --disabled-bg-color: #3B4455;\n",
              "      --disabled-fill-color: #666;\n",
              "  }\n",
              "\n",
              "  .colab-df-quickchart {\n",
              "    background-color: var(--bg-color);\n",
              "    border: none;\n",
              "    border-radius: 50%;\n",
              "    cursor: pointer;\n",
              "    display: none;\n",
              "    fill: var(--fill-color);\n",
              "    height: 32px;\n",
              "    padding: 0;\n",
              "    width: 32px;\n",
              "  }\n",
              "\n",
              "  .colab-df-quickchart:hover {\n",
              "    background-color: var(--hover-bg-color);\n",
              "    box-shadow: 0 1px 2px rgba(60, 64, 67, 0.3), 0 1px 3px 1px rgba(60, 64, 67, 0.15);\n",
              "    fill: var(--button-hover-fill-color);\n",
              "  }\n",
              "\n",
              "  .colab-df-quickchart-complete:disabled,\n",
              "  .colab-df-quickchart-complete:disabled:hover {\n",
              "    background-color: var(--disabled-bg-color);\n",
              "    fill: var(--disabled-fill-color);\n",
              "    box-shadow: none;\n",
              "  }\n",
              "\n",
              "  .colab-df-spinner {\n",
              "    border: 2px solid var(--fill-color);\n",
              "    border-color: transparent;\n",
              "    border-bottom-color: var(--fill-color);\n",
              "    animation:\n",
              "      spin 1s steps(1) infinite;\n",
              "  }\n",
              "\n",
              "  @keyframes spin {\n",
              "    0% {\n",
              "      border-color: transparent;\n",
              "      border-bottom-color: var(--fill-color);\n",
              "      border-left-color: var(--fill-color);\n",
              "    }\n",
              "    20% {\n",
              "      border-color: transparent;\n",
              "      border-left-color: var(--fill-color);\n",
              "      border-top-color: var(--fill-color);\n",
              "    }\n",
              "    30% {\n",
              "      border-color: transparent;\n",
              "      border-left-color: var(--fill-color);\n",
              "      border-top-color: var(--fill-color);\n",
              "      border-right-color: var(--fill-color);\n",
              "    }\n",
              "    40% {\n",
              "      border-color: transparent;\n",
              "      border-right-color: var(--fill-color);\n",
              "      border-top-color: var(--fill-color);\n",
              "    }\n",
              "    60% {\n",
              "      border-color: transparent;\n",
              "      border-right-color: var(--fill-color);\n",
              "    }\n",
              "    80% {\n",
              "      border-color: transparent;\n",
              "      border-right-color: var(--fill-color);\n",
              "      border-bottom-color: var(--fill-color);\n",
              "    }\n",
              "    90% {\n",
              "      border-color: transparent;\n",
              "      border-bottom-color: var(--fill-color);\n",
              "    }\n",
              "  }\n",
              "</style>\n",
              "\n",
              "  <script>\n",
              "    async function quickchart(key) {\n",
              "      const quickchartButtonEl =\n",
              "        document.querySelector('#' + key + ' button');\n",
              "      quickchartButtonEl.disabled = true;  // To prevent multiple clicks.\n",
              "      quickchartButtonEl.classList.add('colab-df-spinner');\n",
              "      try {\n",
              "        const charts = await google.colab.kernel.invokeFunction(\n",
              "            'suggestCharts', [key], {});\n",
              "      } catch (error) {\n",
              "        console.error('Error during call to suggestCharts:', error);\n",
              "      }\n",
              "      quickchartButtonEl.classList.remove('colab-df-spinner');\n",
              "      quickchartButtonEl.classList.add('colab-df-quickchart-complete');\n",
              "    }\n",
              "    (() => {\n",
              "      let quickchartButtonEl =\n",
              "        document.querySelector('#df-578ebb33-8628-4ef1-a23d-e3da0b22828b button');\n",
              "      quickchartButtonEl.style.display =\n",
              "        google.colab.kernel.accessAllowed ? 'block' : 'none';\n",
              "    })();\n",
              "  </script>\n",
              "</div>\n",
              "\n",
              "  <div id=\"id_413fb153-3431-42df-8dcd-a12a3aae9fd3\">\n",
              "    <style>\n",
              "      .colab-df-generate {\n",
              "        background-color: #E8F0FE;\n",
              "        border: none;\n",
              "        border-radius: 50%;\n",
              "        cursor: pointer;\n",
              "        display: none;\n",
              "        fill: #1967D2;\n",
              "        height: 32px;\n",
              "        padding: 0 0 0 0;\n",
              "        width: 32px;\n",
              "      }\n",
              "\n",
              "      .colab-df-generate:hover {\n",
              "        background-color: #E2EBFA;\n",
              "        box-shadow: 0px 1px 2px rgba(60, 64, 67, 0.3), 0px 1px 3px 1px rgba(60, 64, 67, 0.15);\n",
              "        fill: #174EA6;\n",
              "      }\n",
              "\n",
              "      [theme=dark] .colab-df-generate {\n",
              "        background-color: #3B4455;\n",
              "        fill: #D2E3FC;\n",
              "      }\n",
              "\n",
              "      [theme=dark] .colab-df-generate:hover {\n",
              "        background-color: #434B5C;\n",
              "        box-shadow: 0px 1px 3px 1px rgba(0, 0, 0, 0.15);\n",
              "        filter: drop-shadow(0px 1px 2px rgba(0, 0, 0, 0.3));\n",
              "        fill: #FFFFFF;\n",
              "      }\n",
              "    </style>\n",
              "    <button class=\"colab-df-generate\" onclick=\"generateWithVariable('df')\"\n",
              "            title=\"Generate code using this dataframe.\"\n",
              "            style=\"display:none;\">\n",
              "\n",
              "  <svg xmlns=\"http://www.w3.org/2000/svg\" height=\"24px\"viewBox=\"0 0 24 24\"\n",
              "       width=\"24px\">\n",
              "    <path d=\"M7,19H8.4L18.45,9,17,7.55,7,17.6ZM5,21V16.75L18.45,3.32a2,2,0,0,1,2.83,0l1.4,1.43a1.91,1.91,0,0,1,.58,1.4,1.91,1.91,0,0,1-.58,1.4L9.25,21ZM18.45,9,17,7.55Zm-12,3A5.31,5.31,0,0,0,4.9,8.1,5.31,5.31,0,0,0,1,6.5,5.31,5.31,0,0,0,4.9,4.9,5.31,5.31,0,0,0,6.5,1,5.31,5.31,0,0,0,8.1,4.9,5.31,5.31,0,0,0,12,6.5,5.46,5.46,0,0,0,6.5,12Z\"/>\n",
              "  </svg>\n",
              "    </button>\n",
              "    <script>\n",
              "      (() => {\n",
              "      const buttonEl =\n",
              "        document.querySelector('#id_413fb153-3431-42df-8dcd-a12a3aae9fd3 button.colab-df-generate');\n",
              "      buttonEl.style.display =\n",
              "        google.colab.kernel.accessAllowed ? 'block' : 'none';\n",
              "\n",
              "      buttonEl.onclick = () => {\n",
              "        google.colab.notebook.generateWithVariable('df');\n",
              "      }\n",
              "      })();\n",
              "    </script>\n",
              "  </div>\n",
              "\n",
              "    </div>\n",
              "  </div>\n"
            ],
            "application/vnd.google.colaboratory.intrinsic+json": {
              "type": "dataframe",
              "variable_name": "df",
              "summary": "{\n  \"name\": \"df\",\n  \"rows\": 7588,\n  \"fields\": [\n    {\n      \"column\": \"date\",\n      \"properties\": {\n        \"dtype\": \"string\",\n        \"num_unique_values\": 7588,\n        \"samples\": [\n          \"21-02-2004 00:00\",\n          \"24-10-2006 00:00\",\n          \"04-10-1994 00:00\"\n        ],\n        \"semantic_type\": \"\",\n        \"description\": \"\"\n      }\n    },\n    {\n      \"column\": \"Ex_rate\",\n      \"properties\": {\n        \"dtype\": \"number\",\n        \"std\": 0.13662041861112528,\n        \"min\": 0.483297,\n        \"max\": 1.102536,\n        \"num_unique_values\": 5330,\n        \"samples\": [\n          0.642187,\n          0.51815,\n          0.7984\n        ],\n        \"semantic_type\": \"\",\n        \"description\": \"\"\n      }\n    }\n  ]\n}"
            }
          },
          "metadata": {},
          "execution_count": 3
        }
      ],
      "source": [
        "df"
      ]
    },
    {
      "cell_type": "code",
      "execution_count": null,
      "id": "e77e3ae6-6d5b-469a-b5ff-66777f6b23a7",
      "metadata": {
        "id": "e77e3ae6-6d5b-469a-b5ff-66777f6b23a7",
        "outputId": "abd4fe42-22f0-4576-9eff-07dc3dd217d1"
      },
      "outputs": [
        {
          "data": {
            "text/plain": [
              "Index(['date', 'Ex_rate'], dtype='object')"
            ]
          },
          "execution_count": 4,
          "metadata": {},
          "output_type": "execute_result"
        }
      ],
      "source": [
        "df.columns"
      ]
    },
    {
      "cell_type": "code",
      "execution_count": null,
      "id": "e48c0e6e-4279-4399-b91a-c3df95830ae2",
      "metadata": {
        "id": "e48c0e6e-4279-4399-b91a-c3df95830ae2",
        "outputId": "c1725e31-8800-44e9-a4b7-9fb5c20472bc"
      },
      "outputs": [
        {
          "name": "stdout",
          "output_type": "stream",
          "text": [
            "<class 'pandas.core.frame.DataFrame'>\n",
            "RangeIndex: 7588 entries, 0 to 7587\n",
            "Data columns (total 2 columns):\n",
            " #   Column   Non-Null Count  Dtype  \n",
            "---  ------   --------------  -----  \n",
            " 0   date     7588 non-null   object \n",
            " 1   Ex_rate  7588 non-null   float64\n",
            "dtypes: float64(1), object(1)\n",
            "memory usage: 118.7+ KB\n"
          ]
        }
      ],
      "source": [
        "df.info()"
      ]
    },
    {
      "cell_type": "code",
      "execution_count": null,
      "id": "79521b98-a787-4fe9-89d3-57ed6ebf5b72",
      "metadata": {
        "id": "79521b98-a787-4fe9-89d3-57ed6ebf5b72",
        "outputId": "733c513a-d2ff-4e90-f9e3-859ecddbb5c4"
      },
      "outputs": [
        {
          "data": {
            "text/html": [
              "<div>\n",
              "<style scoped>\n",
              "    .dataframe tbody tr th:only-of-type {\n",
              "        vertical-align: middle;\n",
              "    }\n",
              "\n",
              "    .dataframe tbody tr th {\n",
              "        vertical-align: top;\n",
              "    }\n",
              "\n",
              "    .dataframe thead th {\n",
              "        text-align: right;\n",
              "    }\n",
              "</style>\n",
              "<table border=\"1\" class=\"dataframe\">\n",
              "  <thead>\n",
              "    <tr style=\"text-align: right;\">\n",
              "      <th></th>\n",
              "      <th>Ex_rate</th>\n",
              "    </tr>\n",
              "  </thead>\n",
              "  <tbody>\n",
              "    <tr>\n",
              "      <th>count</th>\n",
              "      <td>7588.000000</td>\n",
              "    </tr>\n",
              "    <tr>\n",
              "      <th>mean</th>\n",
              "      <td>0.776974</td>\n",
              "    </tr>\n",
              "    <tr>\n",
              "      <th>std</th>\n",
              "      <td>0.136620</td>\n",
              "    </tr>\n",
              "    <tr>\n",
              "      <th>min</th>\n",
              "      <td>0.483297</td>\n",
              "    </tr>\n",
              "    <tr>\n",
              "      <th>25%</th>\n",
              "      <td>0.701422</td>\n",
              "    </tr>\n",
              "    <tr>\n",
              "      <th>50%</th>\n",
              "      <td>0.761377</td>\n",
              "    </tr>\n",
              "    <tr>\n",
              "      <th>75%</th>\n",
              "      <td>0.873477</td>\n",
              "    </tr>\n",
              "    <tr>\n",
              "      <th>max</th>\n",
              "      <td>1.102536</td>\n",
              "    </tr>\n",
              "  </tbody>\n",
              "</table>\n",
              "</div>"
            ],
            "text/plain": [
              "           Ex_rate\n",
              "count  7588.000000\n",
              "mean      0.776974\n",
              "std       0.136620\n",
              "min       0.483297\n",
              "25%       0.701422\n",
              "50%       0.761377\n",
              "75%       0.873477\n",
              "max       1.102536"
            ]
          },
          "execution_count": 6,
          "metadata": {},
          "output_type": "execute_result"
        }
      ],
      "source": [
        "df.describe()"
      ]
    },
    {
      "cell_type": "code",
      "execution_count": null,
      "id": "41538f09-08ae-42e8-b002-3b39ac69017c",
      "metadata": {
        "id": "41538f09-08ae-42e8-b002-3b39ac69017c",
        "outputId": "c3244f36-dc57-473f-a7de-1bc8c5c5e964"
      },
      "outputs": [
        {
          "data": {
            "text/html": [
              "<div>\n",
              "<style scoped>\n",
              "    .dataframe tbody tr th:only-of-type {\n",
              "        vertical-align: middle;\n",
              "    }\n",
              "\n",
              "    .dataframe tbody tr th {\n",
              "        vertical-align: top;\n",
              "    }\n",
              "\n",
              "    .dataframe thead th {\n",
              "        text-align: right;\n",
              "    }\n",
              "</style>\n",
              "<table border=\"1\" class=\"dataframe\">\n",
              "  <thead>\n",
              "    <tr style=\"text-align: right;\">\n",
              "      <th></th>\n",
              "      <th>date</th>\n",
              "      <th>Ex_rate</th>\n",
              "    </tr>\n",
              "  </thead>\n",
              "  <tbody>\n",
              "    <tr>\n",
              "      <th>0</th>\n",
              "      <td>01-01-1990 00:00</td>\n",
              "      <td>0.7855</td>\n",
              "    </tr>\n",
              "    <tr>\n",
              "      <th>1</th>\n",
              "      <td>02-01-1990 00:00</td>\n",
              "      <td>0.7818</td>\n",
              "    </tr>\n",
              "    <tr>\n",
              "      <th>2</th>\n",
              "      <td>03-01-1990 00:00</td>\n",
              "      <td>0.7867</td>\n",
              "    </tr>\n",
              "    <tr>\n",
              "      <th>3</th>\n",
              "      <td>04-01-1990 00:00</td>\n",
              "      <td>0.7860</td>\n",
              "    </tr>\n",
              "    <tr>\n",
              "      <th>4</th>\n",
              "      <td>05-01-1990 00:00</td>\n",
              "      <td>0.7849</td>\n",
              "    </tr>\n",
              "  </tbody>\n",
              "</table>\n",
              "</div>"
            ],
            "text/plain": [
              "               date  Ex_rate\n",
              "0  01-01-1990 00:00   0.7855\n",
              "1  02-01-1990 00:00   0.7818\n",
              "2  03-01-1990 00:00   0.7867\n",
              "3  04-01-1990 00:00   0.7860\n",
              "4  05-01-1990 00:00   0.7849"
            ]
          },
          "execution_count": 7,
          "metadata": {},
          "output_type": "execute_result"
        }
      ],
      "source": [
        "df.head()"
      ]
    },
    {
      "cell_type": "code",
      "execution_count": null,
      "id": "42954410-49ca-4140-9735-e91bb60c931c",
      "metadata": {
        "id": "42954410-49ca-4140-9735-e91bb60c931c"
      },
      "outputs": [],
      "source": [
        "df['date'] = pd.to_datetime(df['date'], dayfirst=True)"
      ]
    },
    {
      "cell_type": "code",
      "execution_count": null,
      "id": "c3d115c5-af8b-4578-955e-2fed78733b19",
      "metadata": {
        "id": "c3d115c5-af8b-4578-955e-2fed78733b19",
        "outputId": "b813a59a-125f-435b-d201-0903078500b7"
      },
      "outputs": [
        {
          "data": {
            "text/plain": [
              "0      1990-01-01\n",
              "1      1990-01-02\n",
              "2      1990-01-03\n",
              "3      1990-01-04\n",
              "4      1990-01-05\n",
              "          ...    \n",
              "7583   2010-10-06\n",
              "7584   2010-10-07\n",
              "7585   2010-10-08\n",
              "7586   2010-10-09\n",
              "7587   2010-10-10\n",
              "Name: date, Length: 7588, dtype: datetime64[ns]"
            ]
          },
          "execution_count": 9,
          "metadata": {},
          "output_type": "execute_result"
        }
      ],
      "source": [
        "df['date']"
      ]
    },
    {
      "cell_type": "markdown",
      "id": "9ee30760-bed8-4982-aa26-a00986d8e62d",
      "metadata": {
        "id": "9ee30760-bed8-4982-aa26-a00986d8e62d"
      },
      "source": [
        "Initial Exploration"
      ]
    },
    {
      "cell_type": "code",
      "execution_count": null,
      "id": "da3cdde3-8453-4f8c-8e59-9230d5a9dd22",
      "metadata": {
        "id": "da3cdde3-8453-4f8c-8e59-9230d5a9dd22",
        "outputId": "21411077-aa00-4975-d055-09944f6d2e03"
      },
      "outputs": [
        {
          "data": {
            "image/png": "[encoded data removed]",
            "text/plain": [
              "<Figure size 1200x600 with 1 Axes>"
            ]
          },
          "metadata": {},
          "output_type": "display_data"
        }
      ],
      "source": [
        "plt.figure(figsize=(12,6))\n",
        "plt.plot(df['date'], df['Ex_rate'])\n",
        "plt.xlabel('Date')\n",
        "plt.ylabel('Exchange Rate')\n",
        "plt.title('Exchange Rate Time Series')\n",
        "plt.show()"
      ]
    },
    {
      "cell_type": "markdown",
      "id": "ba5a4243-728e-4848-b5d3-83fa4cb92f5e",
      "metadata": {
        "id": "ba5a4243-728e-4848-b5d3-83fa4cb92f5e"
      },
      "source": [
        "Data Preprocessing"
      ]
    },
    {
      "cell_type": "markdown",
      "id": "d9d545ed-ec23-4088-9846-9ef44fa51654",
      "metadata": {
        "id": "d9d545ed-ec23-4088-9846-9ef44fa51654"
      },
      "source": [
        "Checking for missing values"
      ]
    },
    {
      "cell_type": "code",
      "execution_count": null,
      "id": "5f79ea99-215f-4461-9706-d9615fd4411f",
      "metadata": {
        "id": "5f79ea99-215f-4461-9706-d9615fd4411f",
        "outputId": "6793135b-816e-492e-c0aa-97f082b91fa1"
      },
      "outputs": [
        {
          "name": "stdout",
          "output_type": "stream",
          "text": [
            "date       0\n",
            "Ex_rate    0\n",
            "dtype: int64\n"
          ]
        }
      ],
      "source": [
        "print(df.isnull().sum())"
      ]
    },
    {
      "cell_type": "markdown",
      "id": "7074eea8-8370-45b6-9aef-a8cfc858762f",
      "metadata": {
        "id": "7074eea8-8370-45b6-9aef-a8cfc858762f"
      },
      "source": [
        "Checking for anomalies"
      ]
    },
    {
      "cell_type": "code",
      "execution_count": null,
      "id": "e9d3a17a-6a17-4409-ab3e-d75c3e166d06",
      "metadata": {
        "id": "e9d3a17a-6a17-4409-ab3e-d75c3e166d06"
      },
      "outputs": [],
      "source": [
        "Q1 = df['Ex_rate'].quantile(0.25)\n",
        "Q3 = df['Ex_rate'].quantile(0.75)\n",
        "IQR = Q3 - Q1\n",
        "\n",
        "lower_bound = Q1 - 1.5 * IQR\n",
        "upper_bound = Q3 + 1.5 * IQR\n",
        "\n",
        "anomalies = df[(df['Ex_rate'] < lower_bound) | (df['Ex_rate'] > upper_bound)]"
      ]
    },
    {
      "cell_type": "code",
      "execution_count": null,
      "id": "a09768e4-7fbd-43c9-9d60-0b76ebda6772",
      "metadata": {
        "id": "a09768e4-7fbd-43c9-9d60-0b76ebda6772",
        "outputId": "9fe6b2e0-952a-4ab9-c4b5-d2d16099871b"
      },
      "outputs": [
        {
          "name": "stdout",
          "output_type": "stream",
          "text": [
            "Empty DataFrame\n",
            "Columns: [date, Ex_rate]\n",
            "Index: []\n"
          ]
        }
      ],
      "source": [
        "print(anomalies)"
      ]
    },
    {
      "cell_type": "markdown",
      "id": "b60a31c4-4e0f-4cb8-b9df-0750667da3d7",
      "metadata": {
        "id": "b60a31c4-4e0f-4cb8-b9df-0750667da3d7"
      },
      "source": [
        "# Task 2: Model Building - ARIMA"
      ]
    },
    {
      "cell_type": "markdown",
      "id": "e66be8a2-de75-4796-8acf-245dbf3ea5ba",
      "metadata": {
        "id": "e66be8a2-de75-4796-8acf-245dbf3ea5ba"
      },
      "source": [
        "Parameter Selection for ARIMA"
      ]
    },
    {
      "cell_type": "markdown",
      "id": "605be636-7ae9-48d8-936d-41dfbbb664c8",
      "metadata": {
        "id": "605be636-7ae9-48d8-936d-41dfbbb664c8"
      },
      "source": [
        "Plotting the ACF and PACF plots to estimate initial parameters (p, d, q) for the ARIMA model"
      ]
    },
    {
      "cell_type": "code",
      "execution_count": null,
      "id": "ad2514d5-1896-4810-a812-233b5c313a1c",
      "metadata": {
        "id": "ad2514d5-1896-4810-a812-233b5c313a1c"
      },
      "outputs": [],
      "source": [
        "from statsmodels.graphics.tsaplots import plot_acf, plot_pacf"
      ]
    },
    {
      "cell_type": "code",
      "execution_count": null,
      "id": "5d6fc32b-8dc2-4ec4-bc01-5db19f4128dd",
      "metadata": {
        "id": "5d6fc32b-8dc2-4ec4-bc01-5db19f4128dd",
        "outputId": "7afd597d-fb11-4b9c-c136-0ddb8722e7f3"
      },
      "outputs": [
        {
          "data": {
            "text/plain": [
              "<Figure size 1200x600 with 0 Axes>"
            ]
          },
          "metadata": {},
          "output_type": "display_data"
        },
        {
          "data": {
            "image/png": "[encoded data removed]",
            "text/plain": [
              "<Figure size 640x480 with 1 Axes>"
            ]
          },
          "metadata": {},
          "output_type": "display_data"
        }
      ],
      "source": [
        "plt.figure(figsize=(12,6))\n",
        "plot_acf(df['Ex_rate'], lags=20)\n",
        "plt.title('ACF')\n",
        "plt.show()"
      ]
    },
    {
      "cell_type": "code",
      "execution_count": null,
      "id": "4ad309fc-f08b-48b0-a4fe-d76b8dc19a7f",
      "metadata": {
        "id": "4ad309fc-f08b-48b0-a4fe-d76b8dc19a7f",
        "outputId": "3c5329ab-852d-4d76-e70c-b6bcd733ca35"
      },
      "outputs": [
        {
          "data": {
            "text/plain": [
              "<Figure size 1200x600 with 0 Axes>"
            ]
          },
          "metadata": {},
          "output_type": "display_data"
        },
        {
          "data": {
            "image/png": "[encoded data removed]",
            "text/plain": [
              "<Figure size 640x480 with 1 Axes>"
            ]
          },
          "metadata": {},
          "output_type": "display_data"
        }
      ],
      "source": [
        "plt.figure(figsize=(12,6))\n",
        "plot_pacf(df['Ex_rate'], lags=20)\n",
        "plt.title('PACF')\n",
        "plt.show()"
      ]
    },
    {
      "cell_type": "markdown",
      "id": "95d1d25e-319f-4891-9eca-e1c666017638",
      "metadata": {
        "id": "95d1d25e-319f-4891-9eca-e1c666017638"
      },
      "source": [
        "Model Fitting"
      ]
    },
    {
      "cell_type": "markdown",
      "id": "e4fb3874-3c93-434d-b60a-ff33cdbcc40d",
      "metadata": {
        "id": "e4fb3874-3c93-434d-b60a-ff33cdbcc40d"
      },
      "source": [
        "Fitting the ARIMA model with the selected parameters to the preprocessed time series"
      ]
    },
    {
      "cell_type": "code",
      "execution_count": null,
      "id": "8ed174b6-1287-4a70-8b1a-de7aa8b10941",
      "metadata": {
        "id": "8ed174b6-1287-4a70-8b1a-de7aa8b10941",
        "outputId": "1bfd9786-ee0e-4566-d2a8-e944bcf8849d"
      },
      "outputs": [
        {
          "name": "stderr",
          "output_type": "stream",
          "text": [
            "C:\\Users\\PAVAN\\anaconda3\\Lib\\site-packages\\statsmodels\\base\\model.py:607: ConvergenceWarning: Maximum Likelihood optimization failed to converge. Check mle_retvals\n",
            "  warnings.warn(\"Maximum Likelihood optimization failed to \"\n"
          ]
        }
      ],
      "source": [
        "from statsmodels.tsa.arima.model import ARIMA\n",
        "\n",
        "# Define the ARIMA model\n",
        "model = ARIMA(df['Ex_rate'], order=(1,1,1))\n",
        "\n",
        "# Fit the model\n",
        "model_fit = model.fit()"
      ]
    },
    {
      "cell_type": "code",
      "execution_count": null,
      "id": "6fd73319-69a1-40c1-aac1-8c5d703b2ccd",
      "metadata": {
        "id": "6fd73319-69a1-40c1-aac1-8c5d703b2ccd",
        "outputId": "85b0d03b-ae83-4713-fca0-739cb337d4d9"
      },
      "outputs": [
        {
          "data": {
            "text/plain": [
              "<statsmodels.tsa.arima.model.ARIMA at 0x1f2a2c31950>"
            ]
          },
          "execution_count": 18,
          "metadata": {},
          "output_type": "execute_result"
        }
      ],
      "source": [
        "model"
      ]
    },
    {
      "cell_type": "code",
      "execution_count": null,
      "id": "7e5ca7bb-e863-4488-a99e-ffe7b69fb9e7",
      "metadata": {
        "id": "7e5ca7bb-e863-4488-a99e-ffe7b69fb9e7",
        "outputId": "280f03e1-a6dd-46bb-d70b-5a901cdd36da"
      },
      "outputs": [
        {
          "data": {
            "text/plain": [
              "<statsmodels.tsa.arima.model.ARIMAResultsWrapper at 0x1f2a2c8f5d0>"
            ]
          },
          "execution_count": 19,
          "metadata": {},
          "output_type": "execute_result"
        }
      ],
      "source": [
        "model_fit"
      ]
    },
    {
      "cell_type": "markdown",
      "id": "d243b777-8472-4d9c-b03d-864d9319c2e1",
      "metadata": {
        "id": "d243b777-8472-4d9c-b03d-864d9319c2e1"
      },
      "source": [
        "Diagnostics"
      ]
    },
    {
      "cell_type": "markdown",
      "id": "23ff99ff-a805-4d94-8b25-cabfb38f979b",
      "metadata": {
        "id": "23ff99ff-a805-4d94-8b25-cabfb38f979b"
      },
      "source": [
        "Analyzing the residuals to ensure there are no patterns that might indicate model inadequacies"
      ]
    },
    {
      "cell_type": "markdown",
      "id": "c007ed56-df65-4880-8eac-618ace16ddda",
      "metadata": {
        "id": "c007ed56-df65-4880-8eac-618ace16ddda"
      },
      "source": [
        "Plotting the residuals"
      ]
    },
    {
      "cell_type": "code",
      "execution_count": null,
      "id": "fe4e96c6-71c8-46cc-aba1-38d6cdaadb3b",
      "metadata": {
        "id": "fe4e96c6-71c8-46cc-aba1-38d6cdaadb3b",
        "outputId": "aba96a80-3c2f-4951-d9e7-d57597452a81"
      },
      "outputs": [
        {
          "data": {
            "image/png": "[encoded data removed]",
            "text/plain": [
              "<Figure size 1200x600 with 1 Axes>"
            ]
          },
          "metadata": {},
          "output_type": "display_data"
        }
      ],
      "source": [
        "residuals = model_fit.resid\n",
        "plt.figure(figsize=(12,6))\n",
        "plt.plot(residuals)\n",
        "plt.title('Residuals')\n",
        "plt.show()"
      ]
    },
    {
      "cell_type": "markdown",
      "id": "bfc3b48d-09af-4f2e-8fcb-b2d30f4cdd3f",
      "metadata": {
        "id": "bfc3b48d-09af-4f2e-8fcb-b2d30f4cdd3f"
      },
      "source": [
        "Plotting the ACF of the residuals"
      ]
    },
    {
      "cell_type": "code",
      "execution_count": null,
      "id": "da8885dc-d940-4e29-90bd-44ec25587ef6",
      "metadata": {
        "id": "da8885dc-d940-4e29-90bd-44ec25587ef6",
        "outputId": "470966b2-960d-4fa5-f831-69af0040d6bc"
      },
      "outputs": [
        {
          "data": {
            "text/plain": [
              "<Figure size 1200x600 with 0 Axes>"
            ]
          },
          "metadata": {},
          "output_type": "display_data"
        },
        {
          "data": {
            "image/png": "[encoded data removed]",
            "text/plain": [
              "<Figure size 640x480 with 1 Axes>"
            ]
          },
          "metadata": {},
          "output_type": "display_data"
        }
      ],
      "source": [
        "plt.figure(figsize=(12,6))\n",
        "plot_acf(residuals, lags=20)\n",
        "plt.title('ACF of Residuals')\n",
        "plt.show()"
      ]
    },
    {
      "cell_type": "markdown",
      "id": "02acd824-8d4d-4951-b7b8-54a773882838",
      "metadata": {
        "id": "02acd824-8d4d-4951-b7b8-54a773882838"
      },
      "source": [
        "Forecasting"
      ]
    },
    {
      "cell_type": "markdown",
      "id": "221e5ae7-c3fe-49d6-9c8b-1b9236bcb1a6",
      "metadata": {
        "id": "221e5ae7-c3fe-49d6-9c8b-1b9236bcb1a6"
      },
      "source": [
        "Performing out-of-sample forecasting and visualize the predicted values against the actual values"
      ]
    },
    {
      "cell_type": "markdown",
      "id": "4860eba7-87ac-461a-8def-2cf483e01662",
      "metadata": {
        "id": "4860eba7-87ac-461a-8def-2cf483e01662"
      },
      "source": [
        "Splitting the data into training and testing sets"
      ]
    },
    {
      "cell_type": "code",
      "execution_count": null,
      "id": "1ae73e0e-9217-4369-97d6-acbe69624145",
      "metadata": {
        "id": "1ae73e0e-9217-4369-97d6-acbe69624145"
      },
      "outputs": [],
      "source": [
        "train_size = int(len(df) * 0.8)\n",
        "train, test = df['Ex_rate'][:train_size], df['Ex_rate'][train_size:]"
      ]
    },
    {
      "cell_type": "code",
      "execution_count": null,
      "id": "9c7ea15b-20e9-4655-ad9d-03b8db6fdb83",
      "metadata": {
        "id": "9c7ea15b-20e9-4655-ad9d-03b8db6fdb83",
        "outputId": "ec980609-0b14-4e21-99ff-3522b4657e81"
      },
      "outputs": [
        {
          "data": {
            "text/plain": [
              "6070"
            ]
          },
          "execution_count": 23,
          "metadata": {},
          "output_type": "execute_result"
        }
      ],
      "source": [
        "train_size"
      ]
    },
    {
      "cell_type": "code",
      "execution_count": null,
      "id": "35812797-f8a6-4739-956b-c56065923397",
      "metadata": {
        "id": "35812797-f8a6-4739-956b-c56065923397",
        "outputId": "15a15116-c672-45f5-a64f-2540cc428dea"
      },
      "outputs": [
        {
          "data": {
            "text/plain": [
              "(0       0.785500\n",
              " 1       0.781800\n",
              " 2       0.786700\n",
              " 3       0.786000\n",
              " 4       0.784900\n",
              "           ...   \n",
              " 6065    1.022620\n",
              " 6066    1.027591\n",
              " 6067    1.022349\n",
              " 6068    1.023395\n",
              " 6069    1.023552\n",
              " Name: Ex_rate, Length: 6070, dtype: float64,\n",
              " 6070    1.025347\n",
              " 6071    1.026905\n",
              " 6072    1.037344\n",
              " 6073    1.038875\n",
              " 6074    1.032855\n",
              "           ...   \n",
              " 7583    0.718494\n",
              " 7584    0.721839\n",
              " 7585    0.723197\n",
              " 7586    0.720825\n",
              " 7587    0.720825\n",
              " Name: Ex_rate, Length: 1518, dtype: float64)"
            ]
          },
          "execution_count": 24,
          "metadata": {},
          "output_type": "execute_result"
        }
      ],
      "source": [
        "train, test"
      ]
    },
    {
      "cell_type": "markdown",
      "id": "d1a60bdd-e01d-43f0-8de3-c1cfe57a16d2",
      "metadata": {
        "id": "d1a60bdd-e01d-43f0-8de3-c1cfe57a16d2"
      },
      "source": [
        "Fitting the model to the training data"
      ]
    },
    {
      "cell_type": "code",
      "execution_count": null,
      "id": "ff2306d1-f76f-4907-8ea4-af7c638fb742",
      "metadata": {
        "id": "ff2306d1-f76f-4907-8ea4-af7c638fb742"
      },
      "outputs": [],
      "source": [
        "model_fit = ARIMA(train, order=(1,1,1)).fit()"
      ]
    },
    {
      "cell_type": "code",
      "execution_count": null,
      "id": "ab7487c4-eceb-49c2-97db-8e26baf2e3b2",
      "metadata": {
        "id": "ab7487c4-eceb-49c2-97db-8e26baf2e3b2",
        "outputId": "2e6e8b30-0053-42e9-84a9-67ce9d7af433"
      },
      "outputs": [
        {
          "data": {
            "text/plain": [
              "<statsmodels.tsa.arima.model.ARIMAResultsWrapper at 0x1f2a46134d0>"
            ]
          },
          "execution_count": 26,
          "metadata": {},
          "output_type": "execute_result"
        }
      ],
      "source": [
        "model_fit"
      ]
    },
    {
      "cell_type": "markdown",
      "id": "7adb0203-b4e1-4ad5-8ce4-5ca51d1c7754",
      "metadata": {
        "id": "7adb0203-b4e1-4ad5-8ce4-5ca51d1c7754"
      },
      "source": [
        "Forecasting the next 3 days"
      ]
    },
    {
      "cell_type": "code",
      "execution_count": null,
      "id": "5a5e54fe-8265-41b9-825c-e20fa00c8e48",
      "metadata": {
        "id": "5a5e54fe-8265-41b9-825c-e20fa00c8e48"
      },
      "outputs": [],
      "source": [
        "forecast, stderr, conf_int = model_fit.forecast(steps=3)"
      ]
    },
    {
      "cell_type": "code",
      "execution_count": null,
      "id": "42249d22-fda5-4877-8e67-1aca6ac4e073",
      "metadata": {
        "id": "42249d22-fda5-4877-8e67-1aca6ac4e073",
        "outputId": "baf916c9-5263-46a6-c60f-65b71286f8f6"
      },
      "outputs": [
        {
          "data": {
            "text/plain": [
              "(1.023685484300682, 1.0236057676464236, 1.0236533743307579)"
            ]
          },
          "execution_count": 28,
          "metadata": {},
          "output_type": "execute_result"
        }
      ],
      "source": [
        "forecast, stderr, conf_int"
      ]
    },
    {
      "cell_type": "markdown",
      "id": "1297f47b-98a1-412d-9131-81760f4a8732",
      "metadata": {
        "id": "1297f47b-98a1-412d-9131-81760f4a8732"
      },
      "source": [
        "Plotting the forecasted values against the actual values"
      ]
    },
    {
      "cell_type": "code",
      "execution_count": null,
      "id": "b9383016-50d8-434f-bc75-f365cc0ddea9",
      "metadata": {
        "id": "b9383016-50d8-434f-bc75-f365cc0ddea9",
        "outputId": "fd4a107d-1f33-497c-f71d-2f7c3b7a2666"
      },
      "outputs": [
        {
          "data": {
            "image/png": "[encoded data removed]",
            "text/plain": [
              "<Figure size 1200x600 with 1 Axes>"
            ]
          },
          "metadata": {},
          "output_type": "display_data"
        }
      ],
      "source": [
        "forecast_value, stderr, conf_int = model_fit.forecast(steps=3)\n",
        "\n",
        "forecast_list = [forecast_value] * 3\n",
        "conf_int_list = [conf_int] * 3\n",
        "\n",
        "plt.figure(figsize=(12,6))\n",
        "plt.plot(test)\n",
        "plt.plot(range(len(test), len(test)+3), forecast_list)\n",
        "plt.title('Forecasted vs Actual Values')\n",
        "plt.show()"
      ]
    },
    {
      "cell_type": "markdown",
      "id": "ac7a8630-88a0-4606-8402-da474fa500f0",
      "metadata": {
        "id": "ac7a8630-88a0-4606-8402-da474fa500f0"
      },
      "source": [
        "# Task 3: Model Building - Exponential Smoothing"
      ]
    },
    {
      "cell_type": "markdown",
      "id": "058d44fb-73cd-4af0-8b8d-7bfe5a6a6a58",
      "metadata": {
        "id": "058d44fb-73cd-4af0-8b8d-7bfe5a6a6a58"
      },
      "source": [
        "Model Selection"
      ]
    },
    {
      "cell_type": "markdown",
      "id": "925baf5b-9ea8-4aad-81b5-7c6546ffcaa7",
      "metadata": {
        "id": "925baf5b-9ea8-4aad-81b5-7c6546ffcaa7"
      },
      "source": [
        "Choossing an appropriate Exponential Smoothing model based on the time series characteristics"
      ]
    },
    {
      "cell_type": "code",
      "execution_count": null,
      "id": "f0520d68-4e00-4979-99e4-b328e9a17ebe",
      "metadata": {
        "id": "f0520d68-4e00-4979-99e4-b328e9a17ebe"
      },
      "outputs": [],
      "source": [
        "import pandas as pd\n",
        "import numpy as np\n",
        "import matplotlib.pyplot as plt\n",
        "from statsmodels.tsa.seasonal import seasonal_decompose"
      ]
    },
    {
      "cell_type": "markdown",
      "id": "cb0887c6-59fc-440a-a0d3-b0c31f7bac6b",
      "metadata": {
        "id": "cb0887c6-59fc-440a-a0d3-b0c31f7bac6b"
      },
      "source": [
        "Plotting the time series"
      ]
    },
    {
      "cell_type": "code",
      "execution_count": null,
      "id": "68351bd9-ea5e-4bde-a13a-37a6f8ec900a",
      "metadata": {
        "id": "68351bd9-ea5e-4bde-a13a-37a6f8ec900a",
        "outputId": "32713230-00ba-421d-fd97-21ce0376d3ce"
      },
      "outputs": [
        {
          "data": {
            "image/png": "[encoded data removed]",
            "text/plain": [
              "<Figure size 1200x600 with 1 Axes>"
            ]
          },
          "metadata": {},
          "output_type": "display_data"
        }
      ],
      "source": [
        "plt.figure(figsize=(12,6))\n",
        "plt.plot(df['Ex_rate'])\n",
        "plt.title('Time Series')\n",
        "plt.show()"
      ]
    },
    {
      "cell_type": "markdown",
      "id": "a5ce80b7-e8e9-43ba-8eda-1af369d2d391",
      "metadata": {
        "id": "a5ce80b7-e8e9-43ba-8eda-1af369d2d391"
      },
      "source": [
        "Decomposing the time series into trend, seasonality, and residuals"
      ]
    },
    {
      "cell_type": "code",
      "execution_count": null,
      "id": "17ee4cb4-26b7-4414-99ab-6ad6f6ae1eed",
      "metadata": {
        "id": "17ee4cb4-26b7-4414-99ab-6ad6f6ae1eed"
      },
      "outputs": [],
      "source": [
        "decomposition = seasonal_decompose(df['Ex_rate'], model='additive', period=12)\n",
        "trend = decomposition.trend\n",
        "seasonal = decomposition.seasonal\n",
        "residual = decomposition.resid"
      ]
    },
    {
      "cell_type": "markdown",
      "id": "abf4f5b7-f60b-4df4-b144-3e203271e112",
      "metadata": {
        "id": "abf4f5b7-f60b-4df4-b144-3e203271e112"
      },
      "source": [
        "Plotting the decomposition"
      ]
    },
    {
      "cell_type": "code",
      "execution_count": null,
      "id": "372e52fb-4deb-4403-8070-8d4c1a428d30",
      "metadata": {
        "id": "372e52fb-4deb-4403-8070-8d4c1a428d30",
        "outputId": "c1140e06-8212-4ae0-9be6-9d211da7e25d"
      },
      "outputs": [
        {
          "data": {
            "image/png": "[encoded data removed]",
            "text/plain": [
              "<Figure size 1200x600 with 4 Axes>"
            ]
          },
          "metadata": {},
          "output_type": "display_data"
        }
      ],
      "source": [
        "plt.figure(figsize=(12,6))\n",
        "plt.subplot(411)\n",
        "plt.plot(df['Ex_rate'], label='Original')\n",
        "plt.legend(loc='best')\n",
        "plt.subplot(412)\n",
        "plt.plot(trend, label='Trend')\n",
        "plt.legend(loc='best')\n",
        "plt.subplot(413)\n",
        "plt.plot(seasonal,label='Seasonality')\n",
        "plt.legend(loc='best')\n",
        "plt.subplot(414)\n",
        "plt.plot(residual, label='Residuals')\n",
        "plt.legend(loc='best')\n",
        "plt.tight_layout()\n",
        "plt.show()"
      ]
    },
    {
      "cell_type": "markdown",
      "id": "764bbc43-15f9-49e8-9e2e-805760ef1ec7",
      "metadata": {
        "id": "764bbc43-15f9-49e8-9e2e-805760ef1ec7"
      },
      "source": [
        "Parameter Optimization"
      ]
    },
    {
      "cell_type": "code",
      "execution_count": null,
      "id": "c7dd450f-cdd6-4b69-91ad-b9c813f0299a",
      "metadata": {
        "id": "c7dd450f-cdd6-4b69-91ad-b9c813f0299a"
      },
      "outputs": [],
      "source": [
        "from statsmodels.tsa.holtwinters import SimpleExpSmoothing, ExponentialSmoothing"
      ]
    },
    {
      "cell_type": "markdown",
      "id": "d947c8a8-830a-438b-bf30-95b4d99d4bb8",
      "metadata": {
        "id": "d947c8a8-830a-438b-bf30-95b4d99d4bb8"
      },
      "source": [
        "Defining the model"
      ]
    },
    {
      "cell_type": "code",
      "execution_count": null,
      "id": "17474b70-6598-42ea-a529-f2815db8d29d",
      "metadata": {
        "id": "17474b70-6598-42ea-a529-f2815db8d29d"
      },
      "outputs": [],
      "source": [
        "model_type = 'SES'  # or 'HLES' or 'HWES'\n",
        "if model_type == 'SES':\n",
        "    model = SimpleExpSmoothing(df['Ex_rate'])\n",
        "elif model_type == 'HLES':\n",
        "    model = ExponentialSmoothing(df['Ex_rate'], trend='add')\n",
        "elif model_type == 'HWES':\n",
        "    model = ExponentialSmoothing(df['Ex_rate'], trend='add', seasonal='add', freq=12)"
      ]
    },
    {
      "cell_type": "markdown",
      "id": "4453491b-c19d-40b1-b595-186d4d5d3a3c",
      "metadata": {
        "id": "4453491b-c19d-40b1-b595-186d4d5d3a3c"
      },
      "source": [
        "Defining the parameter grid"
      ]
    },
    {
      "cell_type": "code",
      "execution_count": null,
      "id": "21923b5c-a148-46fd-9688-dba3a3cbb1ce",
      "metadata": {
        "id": "21923b5c-a148-46fd-9688-dba3a3cbb1ce"
      },
      "outputs": [],
      "source": [
        "param_grid = {\n",
        "    'smoothing_level': [0.1, 0.2, 0.3, 0.4, 0.5],\n",
        "    'smoothing_slope': [0.1, 0.2, 0.3, 0.4, 0.5],\n",
        "    'smoothing_seasonal': [0.1, 0.2, 0.3, 0.4, 0.5]\n",
        "}"
      ]
    },
    {
      "cell_type": "markdown",
      "id": "15e82e04-f10e-4080-9e09-628065157238",
      "metadata": {
        "id": "15e82e04-f10e-4080-9e09-628065157238"
      },
      "source": [
        "Performing grid search"
      ]
    },
    {
      "cell_type": "code",
      "execution_count": null,
      "id": "0181b209-5882-47fa-9a03-7d8f721899ff",
      "metadata": {
        "id": "0181b209-5882-47fa-9a03-7d8f721899ff"
      },
      "outputs": [],
      "source": [
        "df['date'] = pd.to_datetime(df['date'])\n",
        "df.set_index('date', inplace=True)"
      ]
    },
    {
      "cell_type": "code",
      "execution_count": null,
      "id": "f7817deb-0ac2-41d4-8665-006783d56510",
      "metadata": {
        "id": "f7817deb-0ac2-41d4-8665-006783d56510"
      },
      "outputs": [],
      "source": [
        "import pandas as pd\n",
        "import numpy as np\n",
        "import itertools\n",
        "\n",
        "# Resample the data to a monthly frequency\n",
        "df = df.resample('M').mean()\n",
        "\n",
        "best_aic = float('inf')\n",
        "best_params = None\n",
        "for params in itertools.product(*param_grid.values()):\n",
        "    model = ExponentialSmoothing(df['Ex_rate'], trend='add', seasonal='add')\n",
        "    num_params = len(model_fit.params)\n",
        "    aic = 2 * num_params - 2 * model_fit.llf\n",
        "    if aic < best_aic:\n",
        "        best_aic = aic\n",
        "        best_params = params"
      ]
    },
    {
      "cell_type": "code",
      "execution_count": null,
      "id": "0d70d240-6052-45da-9ccd-c24b58b0d18b",
      "metadata": {
        "id": "0d70d240-6052-45da-9ccd-c24b58b0d18b",
        "outputId": "3626782c-f267-4fba-fc4c-bfea5fcb3449"
      },
      "outputs": [
        {
          "name": "stdout",
          "output_type": "stream",
          "text": [
            "Best parameters: (0.1, 0.1, 0.1)\n"
          ]
        }
      ],
      "source": [
        "print('Best parameters:', best_params)"
      ]
    },
    {
      "cell_type": "markdown",
      "id": "481d547b-b643-40e5-bcd8-d86ef82ad72e",
      "metadata": {
        "id": "481d547b-b643-40e5-bcd8-d86ef82ad72e"
      },
      "source": [
        "Model Fitting and Forecasting"
      ]
    },
    {
      "cell_type": "code",
      "execution_count": null,
      "id": "24593f45-6992-4f94-bbcb-bf5f3bffcf00",
      "metadata": {
        "id": "24593f45-6992-4f94-bbcb-bf5f3bffcf00"
      },
      "outputs": [],
      "source": [
        "model_fit = model.fit(smoothing_level=best_params[0], smoothing_trend=best_params[1], smoothing_seasonal=best_params[2])"
      ]
    },
    {
      "cell_type": "code",
      "execution_count": null,
      "id": "8a5edc13-dafc-4243-9f7d-08fa59802140",
      "metadata": {
        "id": "8a5edc13-dafc-4243-9f7d-08fa59802140",
        "outputId": "415e3e47-b677-4e9b-eb13-c14ca70bebaf"
      },
      "outputs": [
        {
          "data": {
            "text/plain": [
              "<statsmodels.tsa.holtwinters.results.HoltWintersResultsWrapper at 0x1f2a4629b50>"
            ]
          },
          "execution_count": 41,
          "metadata": {},
          "output_type": "execute_result"
        }
      ],
      "source": [
        "model_fit"
      ]
    },
    {
      "cell_type": "code",
      "execution_count": null,
      "id": "b24fdb35-01a3-4c8c-ba27-3b5b04a9c7bf",
      "metadata": {
        "id": "b24fdb35-01a3-4c8c-ba27-3b5b04a9c7bf"
      },
      "outputs": [],
      "source": [
        "forecast = model_fit.forecast(steps=3)"
      ]
    },
    {
      "cell_type": "code",
      "execution_count": null,
      "id": "e2de3c4c-2a6a-4304-ab70-49872b5e4daa",
      "metadata": {
        "id": "e2de3c4c-2a6a-4304-ab70-49872b5e4daa",
        "outputId": "b6dd660a-cfb4-4899-f420-21846d77240e"
      },
      "outputs": [
        {
          "data": {
            "text/plain": [
              "2010-11-30    0.689540\n",
              "2010-12-31    0.690989\n",
              "2011-01-31    0.694260\n",
              "Freq: M, dtype: float64"
            ]
          },
          "execution_count": 43,
          "metadata": {},
          "output_type": "execute_result"
        }
      ],
      "source": [
        "forecast"
      ]
    },
    {
      "cell_type": "markdown",
      "id": "e6ce02ce-292a-4ca7-b430-b7414b3674e8",
      "metadata": {
        "id": "e6ce02ce-292a-4ca7-b430-b7414b3674e8"
      },
      "source": [
        "Plotting the forecasted values against the actual values"
      ]
    },
    {
      "cell_type": "code",
      "execution_count": null,
      "id": "1272277a-3382-48a4-8f77-7e5d128be9f8",
      "metadata": {
        "id": "1272277a-3382-48a4-8f77-7e5d128be9f8",
        "outputId": "5ddbaf25-0e7b-4858-8d47-8e9f60062baf"
      },
      "outputs": [
        {
          "data": {
            "image/png": "[encoded data removed]",
            "text/plain": [
              "<Figure size 1200x600 with 1 Axes>"
            ]
          },
          "metadata": {},
          "output_type": "display_data"
        }
      ],
      "source": [
        "plt.figure(figsize=(12,6))\n",
        "plt.plot(df['Ex_rate'])\n",
        "plt.plot(forecast)\n",
        "plt.title('Forecasted vs Actual Values')\n",
        "plt.show()"
      ]
    },
    {
      "cell_type": "markdown",
      "id": "bfa15438-aed8-416e-af44-b88dfd018b26",
      "metadata": {
        "id": "bfa15438-aed8-416e-af44-b88dfd018b26"
      },
      "source": [
        "# Task 4: Evaluation and Comparison"
      ]
    },
    {
      "cell_type": "markdown",
      "id": "ad3bf7b3-cb65-4fd1-a9bb-f59f40e0643e",
      "metadata": {
        "id": "ad3bf7b3-cb65-4fd1-a9bb-f59f40e0643e"
      },
      "source": [
        "Computing Error Metrics"
      ]
    },
    {
      "cell_type": "markdown",
      "id": "2115be0c-2246-4d07-8387-c790f80d939e",
      "metadata": {
        "id": "2115be0c-2246-4d07-8387-c790f80d939e"
      },
      "source": [
        "Using metrics such as MAE, RMSE, and MAPE to evaluate the forecasts from both models"
      ]
    },
    {
      "cell_type": "markdown",
      "id": "5809331a-50a4-4991-8395-49a32bd7369f",
      "metadata": {
        "id": "5809331a-50a4-4991-8395-49a32bd7369f"
      },
      "source": [
        "Defining the forecasted values from ARIMA"
      ]
    },
    {
      "cell_type": "code",
      "execution_count": null,
      "id": "45ac4f64-9c16-4522-ba4b-cd492aaeb85a",
      "metadata": {
        "id": "45ac4f64-9c16-4522-ba4b-cd492aaeb85a"
      },
      "outputs": [],
      "source": [
        "from statsmodels.tsa.arima.model import ARIMA\n",
        "\n",
        "# Fit the ARIMA model\n",
        "arima_model_fit = ARIMA(df['Ex_rate'], order=(1,1,1)).fit()\n",
        "\n",
        "# Generate the forecast\n",
        "arima_forecast = arima_model_fit.forecast(steps=len(df))"
      ]
    },
    {
      "cell_type": "code",
      "execution_count": null,
      "id": "c83c76cf-0615-4e49-ae67-7ea95ce73f59",
      "metadata": {
        "id": "c83c76cf-0615-4e49-ae67-7ea95ce73f59",
        "outputId": "f6c4efc0-ad49-4d37-8ede-b90a7c0aa3ea"
      },
      "outputs": [
        {
          "data": {
            "text/plain": [
              "2010-11-30    0.714106\n",
              "2010-12-31    0.714266\n",
              "2011-01-31    0.714262\n",
              "2011-02-28    0.714262\n",
              "2011-03-31    0.714262\n",
              "                ...   \n",
              "2031-04-30    0.714262\n",
              "2031-05-31    0.714262\n",
              "2031-06-30    0.714262\n",
              "2031-07-31    0.714262\n",
              "2031-08-31    0.714262\n",
              "Freq: M, Name: predicted_mean, Length: 250, dtype: float64"
            ]
          },
          "execution_count": 46,
          "metadata": {},
          "output_type": "execute_result"
        }
      ],
      "source": [
        "arima_forecast"
      ]
    },
    {
      "cell_type": "code",
      "execution_count": null,
      "id": "edfde798-10c6-47b7-ba69-f21eae519976",
      "metadata": {
        "id": "edfde798-10c6-47b7-ba69-f21eae519976",
        "outputId": "1de0a79a-748b-4c82-e06d-f1235ec9a349"
      },
      "outputs": [
        {
          "data": {
            "text/plain": [
              "<statsmodels.tsa.arima.model.ARIMAResultsWrapper at 0x1f2a4830090>"
            ]
          },
          "execution_count": 47,
          "metadata": {},
          "output_type": "execute_result"
        }
      ],
      "source": [
        "arima_model_fit"
      ]
    },
    {
      "cell_type": "markdown",
      "id": "9f92bdc5-0662-4c95-9e15-c8af3c14ed06",
      "metadata": {
        "id": "9f92bdc5-0662-4c95-9e15-c8af3c14ed06"
      },
      "source": [
        "Defining the forecasted values from Exponential Smoothing"
      ]
    },
    {
      "cell_type": "code",
      "execution_count": null,
      "id": "cacb6cd9-d8a6-49a2-9fdf-fd4c8839ae2c",
      "metadata": {
        "id": "cacb6cd9-d8a6-49a2-9fdf-fd4c8839ae2c"
      },
      "outputs": [],
      "source": [
        "from statsmodels.tsa.holtwinters import ExponentialSmoothing\n",
        "\n",
        "# Fit the ES model\n",
        "es_model_fit = ExponentialSmoothing(df['Ex_rate'], seasonal_periods=12).fit()\n",
        "\n",
        "# Generate the forecast\n",
        "es_forecast = es_model_fit.forecast(steps=len(df))"
      ]
    },
    {
      "cell_type": "code",
      "execution_count": null,
      "id": "22371147-2133-482f-a445-8d91ac2671fd",
      "metadata": {
        "id": "22371147-2133-482f-a445-8d91ac2671fd",
        "outputId": "8c46a823-7def-495c-e02b-e094129c2031"
      },
      "outputs": [
        {
          "data": {
            "text/plain": [
              "<statsmodels.tsa.holtwinters.results.HoltWintersResultsWrapper at 0x1f2a47a9f90>"
            ]
          },
          "execution_count": 49,
          "metadata": {},
          "output_type": "execute_result"
        }
      ],
      "source": [
        "es_model_fit"
      ]
    },
    {
      "cell_type": "code",
      "execution_count": null,
      "id": "0338fb58-08fc-45ea-9558-1c58c7b10f54",
      "metadata": {
        "id": "0338fb58-08fc-45ea-9558-1c58c7b10f54",
        "outputId": "7ef0d8c0-dff7-4e3a-f7df-2382ed67d0dd"
      },
      "outputs": [
        {
          "data": {
            "text/plain": [
              "2010-11-30    0.719946\n",
              "2010-12-31    0.719946\n",
              "2011-01-31    0.719946\n",
              "2011-02-28    0.719946\n",
              "2011-03-31    0.719946\n",
              "                ...   \n",
              "2031-04-30    0.719946\n",
              "2031-05-31    0.719946\n",
              "2031-06-30    0.719946\n",
              "2031-07-31    0.719946\n",
              "2031-08-31    0.719946\n",
              "Freq: M, Length: 250, dtype: float64"
            ]
          },
          "execution_count": 50,
          "metadata": {},
          "output_type": "execute_result"
        }
      ],
      "source": [
        "es_forecast"
      ]
    },
    {
      "cell_type": "markdown",
      "id": "6c6c500f-1f6c-47d1-9cfa-9984cc349c3a",
      "metadata": {
        "id": "6c6c500f-1f6c-47d1-9cfa-9984cc349c3a"
      },
      "source": [
        "Computing error metrics for ARIMA"
      ]
    },
    {
      "cell_type": "code",
      "execution_count": null,
      "id": "3bbf7e48-4c5d-4e38-84a6-6919e1ef9543",
      "metadata": {
        "id": "3bbf7e48-4c5d-4e38-84a6-6919e1ef9543"
      },
      "outputs": [],
      "source": [
        "arima_mae = (np.abs(df - arima_forecast)).mean()\n",
        "arima_rmse = np.sqrt(((df - arima_forecast) ** 2).mean())\n",
        "arima_mape = (((np.abs((df - arima_forecast) / df))).mean()) * 100"
      ]
    },
    {
      "cell_type": "code",
      "execution_count": null,
      "id": "05a304f7-9c5f-41be-b464-de25acb95cce",
      "metadata": {
        "id": "05a304f7-9c5f-41be-b464-de25acb95cce",
        "outputId": "bbdadfd4-4a12-46a3-ca5a-bd7314e6b799"
      },
      "outputs": [
        {
          "data": {
            "text/plain": [
              "2010-11-30 00:00:00   NaN\n",
              "2010-12-31 00:00:00   NaN\n",
              "2011-01-31 00:00:00   NaN\n",
              "2011-02-28 00:00:00   NaN\n",
              "2011-03-31 00:00:00   NaN\n",
              "                       ..\n",
              "2031-05-31 00:00:00   NaN\n",
              "2031-06-30 00:00:00   NaN\n",
              "2031-07-31 00:00:00   NaN\n",
              "2031-08-31 00:00:00   NaN\n",
              "Ex_rate               NaN\n",
              "Length: 251, dtype: float64"
            ]
          },
          "execution_count": 52,
          "metadata": {},
          "output_type": "execute_result"
        }
      ],
      "source": [
        "arima_mae"
      ]
    },
    {
      "cell_type": "code",
      "execution_count": null,
      "id": "d2d9cbb9-86f8-4a32-92ac-8d9e656bcea1",
      "metadata": {
        "id": "d2d9cbb9-86f8-4a32-92ac-8d9e656bcea1",
        "outputId": "5127c957-5e03-498c-b4e1-58b1312d50cc"
      },
      "outputs": [
        {
          "data": {
            "text/plain": [
              "2010-11-30 00:00:00   NaN\n",
              "2010-12-31 00:00:00   NaN\n",
              "2011-01-31 00:00:00   NaN\n",
              "2011-02-28 00:00:00   NaN\n",
              "2011-03-31 00:00:00   NaN\n",
              "                       ..\n",
              "2031-05-31 00:00:00   NaN\n",
              "2031-06-30 00:00:00   NaN\n",
              "2031-07-31 00:00:00   NaN\n",
              "2031-08-31 00:00:00   NaN\n",
              "Ex_rate               NaN\n",
              "Length: 251, dtype: float64"
            ]
          },
          "execution_count": 53,
          "metadata": {},
          "output_type": "execute_result"
        }
      ],
      "source": [
        "arima_rmse"
      ]
    },
    {
      "cell_type": "code",
      "execution_count": null,
      "id": "929b9750-5e70-4e2e-9c74-32d593e1b13b",
      "metadata": {
        "id": "929b9750-5e70-4e2e-9c74-32d593e1b13b",
        "outputId": "9751772f-4796-41e3-cc3f-ecf2c93d25bc"
      },
      "outputs": [
        {
          "data": {
            "text/plain": [
              "2010-11-30 00:00:00   NaN\n",
              "2010-12-31 00:00:00   NaN\n",
              "2011-01-31 00:00:00   NaN\n",
              "2011-02-28 00:00:00   NaN\n",
              "2011-03-31 00:00:00   NaN\n",
              "                       ..\n",
              "2031-05-31 00:00:00   NaN\n",
              "2031-06-30 00:00:00   NaN\n",
              "2031-07-31 00:00:00   NaN\n",
              "2031-08-31 00:00:00   NaN\n",
              "Ex_rate               NaN\n",
              "Length: 251, dtype: float64"
            ]
          },
          "execution_count": 54,
          "metadata": {},
          "output_type": "execute_result"
        }
      ],
      "source": [
        "arima_mape"
      ]
    },
    {
      "cell_type": "markdown",
      "id": "abf7eefa-e5a2-4670-9332-c32a63c1cac8",
      "metadata": {
        "id": "abf7eefa-e5a2-4670-9332-c32a63c1cac8"
      },
      "source": [
        "Computing error metrics for Exponential Smoothing"
      ]
    },
    {
      "cell_type": "code",
      "execution_count": null,
      "id": "36de1d53-0e6e-45b8-aedd-d53731d62eb9",
      "metadata": {
        "id": "36de1d53-0e6e-45b8-aedd-d53731d62eb9"
      },
      "outputs": [],
      "source": [
        "es_mae = (np.abs(df - arima_forecast)).mean()\n",
        "es_rmse = np.sqrt(((df - arima_forecast) ** 2).mean())\n",
        "es_mape = (((np.abs((df - arima_forecast) / df))).mean()) * 100\n"
      ]
    },
    {
      "cell_type": "code",
      "execution_count": null,
      "id": "ad80b154-6252-472b-8da7-8c99b16fc0e3",
      "metadata": {
        "id": "ad80b154-6252-472b-8da7-8c99b16fc0e3",
        "outputId": "7af5dd9c-a520-48ac-99ef-6a1cbd2aa9ad"
      },
      "outputs": [
        {
          "data": {
            "text/plain": [
              "2010-11-30 00:00:00   NaN\n",
              "2010-12-31 00:00:00   NaN\n",
              "2011-01-31 00:00:00   NaN\n",
              "2011-02-28 00:00:00   NaN\n",
              "2011-03-31 00:00:00   NaN\n",
              "                       ..\n",
              "2031-05-31 00:00:00   NaN\n",
              "2031-06-30 00:00:00   NaN\n",
              "2031-07-31 00:00:00   NaN\n",
              "2031-08-31 00:00:00   NaN\n",
              "Ex_rate               NaN\n",
              "Length: 251, dtype: float64"
            ]
          },
          "execution_count": 56,
          "metadata": {},
          "output_type": "execute_result"
        }
      ],
      "source": [
        "es_mae"
      ]
    },
    {
      "cell_type": "code",
      "execution_count": null,
      "id": "3f1e6f2b-2597-4706-bb3f-95270098666e",
      "metadata": {
        "id": "3f1e6f2b-2597-4706-bb3f-95270098666e",
        "outputId": "f3db0dbc-9938-458b-a3d3-8b538f6aff24"
      },
      "outputs": [
        {
          "data": {
            "text/plain": [
              "2010-11-30 00:00:00   NaN\n",
              "2010-12-31 00:00:00   NaN\n",
              "2011-01-31 00:00:00   NaN\n",
              "2011-02-28 00:00:00   NaN\n",
              "2011-03-31 00:00:00   NaN\n",
              "                       ..\n",
              "2031-05-31 00:00:00   NaN\n",
              "2031-06-30 00:00:00   NaN\n",
              "2031-07-31 00:00:00   NaN\n",
              "2031-08-31 00:00:00   NaN\n",
              "Ex_rate               NaN\n",
              "Length: 251, dtype: float64"
            ]
          },
          "execution_count": 57,
          "metadata": {},
          "output_type": "execute_result"
        }
      ],
      "source": [
        "es_rmse"
      ]
    },
    {
      "cell_type": "code",
      "execution_count": null,
      "id": "8df998c0-eeb3-435b-b477-3cbb752b5e25",
      "metadata": {
        "id": "8df998c0-eeb3-435b-b477-3cbb752b5e25",
        "outputId": "af656ff4-b938-410d-ee4b-04bdf95565e5"
      },
      "outputs": [
        {
          "data": {
            "text/plain": [
              "2010-11-30 00:00:00   NaN\n",
              "2010-12-31 00:00:00   NaN\n",
              "2011-01-31 00:00:00   NaN\n",
              "2011-02-28 00:00:00   NaN\n",
              "2011-03-31 00:00:00   NaN\n",
              "                       ..\n",
              "2031-05-31 00:00:00   NaN\n",
              "2031-06-30 00:00:00   NaN\n",
              "2031-07-31 00:00:00   NaN\n",
              "2031-08-31 00:00:00   NaN\n",
              "Ex_rate               NaN\n",
              "Length: 251, dtype: float64"
            ]
          },
          "execution_count": 58,
          "metadata": {},
          "output_type": "execute_result"
        }
      ],
      "source": [
        "es_mape"
      ]
    },
    {
      "cell_type": "markdown",
      "id": "59006bf4-3ae2-4007-a77d-93ec9f39b542",
      "metadata": {
        "id": "59006bf4-3ae2-4007-a77d-93ec9f39b542"
      },
      "source": [
        "Print the error metrics"
      ]
    },
    {
      "cell_type": "code",
      "execution_count": null,
      "id": "faa8b974-ee48-4cf6-a768-ad6fa432ad3a",
      "metadata": {
        "id": "faa8b974-ee48-4cf6-a768-ad6fa432ad3a",
        "outputId": "a3c38d90-3e05-452a-c9e3-c7fcf13b0b32"
      },
      "outputs": [
        {
          "name": "stdout",
          "output_type": "stream",
          "text": [
            "ARIMA Error Metrics:\n",
            "MAE: 2010-11-30 00:00:00   NaN\n",
            "2010-12-31 00:00:00   NaN\n",
            "2011-01-31 00:00:00   NaN\n",
            "2011-02-28 00:00:00   NaN\n",
            "2011-03-31 00:00:00   NaN\n",
            "                       ..\n",
            "2031-05-31 00:00:00   NaN\n",
            "2031-06-30 00:00:00   NaN\n",
            "2031-07-31 00:00:00   NaN\n",
            "2031-08-31 00:00:00   NaN\n",
            "Ex_rate               NaN\n",
            "Length: 251, dtype: float64\n",
            "RMSE: 2010-11-30 00:00:00   NaN\n",
            "2010-12-31 00:00:00   NaN\n",
            "2011-01-31 00:00:00   NaN\n",
            "2011-02-28 00:00:00   NaN\n",
            "2011-03-31 00:00:00   NaN\n",
            "                       ..\n",
            "2031-05-31 00:00:00   NaN\n",
            "2031-06-30 00:00:00   NaN\n",
            "2031-07-31 00:00:00   NaN\n",
            "2031-08-31 00:00:00   NaN\n",
            "Ex_rate               NaN\n",
            "Length: 251, dtype: float64\n",
            "MAPE: 2010-11-30 00:00:00   NaN\n",
            "2010-12-31 00:00:00   NaN\n",
            "2011-01-31 00:00:00   NaN\n",
            "2011-02-28 00:00:00   NaN\n",
            "2011-03-31 00:00:00   NaN\n",
            "                       ..\n",
            "2031-05-31 00:00:00   NaN\n",
            "2031-06-30 00:00:00   NaN\n",
            "2031-07-31 00:00:00   NaN\n",
            "2031-08-31 00:00:00   NaN\n",
            "Ex_rate               NaN\n",
            "Length: 251, dtype: float64\n"
          ]
        }
      ],
      "source": [
        "print('ARIMA Error Metrics:')\n",
        "print('MAE:', arima_mae)\n",
        "print('RMSE:', arima_rmse)\n",
        "print('MAPE:', arima_mape)"
      ]
    },
    {
      "cell_type": "code",
      "execution_count": null,
      "id": "5af81ee1-ba84-4de3-83c3-b74a4ad8ba30",
      "metadata": {
        "id": "5af81ee1-ba84-4de3-83c3-b74a4ad8ba30",
        "outputId": "2e60a36d-c3c5-43e9-cac9-9a8eeb35af39"
      },
      "outputs": [
        {
          "name": "stdout",
          "output_type": "stream",
          "text": [
            "Exponential Smoothing Error Metrics:\n",
            "MAE: 2010-11-30 00:00:00   NaN\n",
            "2010-12-31 00:00:00   NaN\n",
            "2011-01-31 00:00:00   NaN\n",
            "2011-02-28 00:00:00   NaN\n",
            "2011-03-31 00:00:00   NaN\n",
            "                       ..\n",
            "2031-05-31 00:00:00   NaN\n",
            "2031-06-30 00:00:00   NaN\n",
            "2031-07-31 00:00:00   NaN\n",
            "2031-08-31 00:00:00   NaN\n",
            "Ex_rate               NaN\n",
            "Length: 251, dtype: float64\n",
            "RMSE: 2010-11-30 00:00:00   NaN\n",
            "2010-12-31 00:00:00   NaN\n",
            "2011-01-31 00:00:00   NaN\n",
            "2011-02-28 00:00:00   NaN\n",
            "2011-03-31 00:00:00   NaN\n",
            "                       ..\n",
            "2031-05-31 00:00:00   NaN\n",
            "2031-06-30 00:00:00   NaN\n",
            "2031-07-31 00:00:00   NaN\n",
            "2031-08-31 00:00:00   NaN\n",
            "Ex_rate               NaN\n",
            "Length: 251, dtype: float64\n",
            "MAPE: 2010-11-30 00:00:00   NaN\n",
            "2010-12-31 00:00:00   NaN\n",
            "2011-01-31 00:00:00   NaN\n",
            "2011-02-28 00:00:00   NaN\n",
            "2011-03-31 00:00:00   NaN\n",
            "                       ..\n",
            "2031-05-31 00:00:00   NaN\n",
            "2031-06-30 00:00:00   NaN\n",
            "2031-07-31 00:00:00   NaN\n",
            "2031-08-31 00:00:00   NaN\n",
            "Ex_rate               NaN\n",
            "Length: 251, dtype: float64\n"
          ]
        }
      ],
      "source": [
        "print('Exponential Smoothing Error Metrics:')\n",
        "print('MAE:', es_mae)\n",
        "print('RMSE:', es_rmse)\n",
        "print('MAPE:', es_mape)"
      ]
    },
    {
      "cell_type": "markdown",
      "id": "66c72bdc-5023-4a1e-8ff9-97f1aecf4c3f",
      "metadata": {
        "id": "66c72bdc-5023-4a1e-8ff9-97f1aecf4c3f"
      },
      "source": [
        "Model Comparison"
      ]
    },
    {
      "cell_type": "markdown",
      "id": "1a61730f-a69d-4709-882d-1a8c9b49f1c3",
      "metadata": {
        "id": "1a61730f-a69d-4709-882d-1a8c9b49f1c3"
      },
      "source": [
        "Compare the error metrics"
      ]
    },
    {
      "cell_type": "code",
      "execution_count": null,
      "id": "e6121d9d-c94c-428a-92cf-fa34d9350e65",
      "metadata": {
        "id": "e6121d9d-c94c-428a-92cf-fa34d9350e65",
        "outputId": "5012629c-e554-4988-9738-535131147118"
      },
      "outputs": [
        {
          "name": "stdout",
          "output_type": "stream",
          "text": [
            "Both models have equal MAE\n"
          ]
        }
      ],
      "source": [
        "if arima_mae.values[0] < es_mae.values[0]:\n",
        "    print('ARIMA has lower MAE')\n",
        "elif arima_mae.values[0] > es_mae.values[0]:\n",
        "    print('Exponential Smoothing has lower MAE')\n",
        "else:\n",
        "    print('Both models have equal MAE')"
      ]
    },
    {
      "cell_type": "code",
      "execution_count": null,
      "id": "64dae94e-1224-40e1-9304-2cfd7430f968",
      "metadata": {
        "id": "64dae94e-1224-40e1-9304-2cfd7430f968",
        "outputId": "552ae8cd-25cb-41a4-d74e-b972c91bf3ce"
      },
      "outputs": [
        {
          "name": "stdout",
          "output_type": "stream",
          "text": [
            "Both models have equal MAE\n"
          ]
        }
      ],
      "source": [
        "import numpy as np\n",
        "\n",
        "# Assuming arima_mae and es_mae are numpy arrays\n",
        "arima_mae_mean = np.mean(arima_mae)\n",
        "es_mae_mean = np.mean(es_mae)\n",
        "\n",
        "if arima_mae_mean < es_mae_mean:\n",
        "    print('ARIMA has lower MAE')\n",
        "elif arima_mae_mean > es_mae_mean:\n",
        "    print('Exponential Smoothing has lower MAE')\n",
        "else:\n",
        "    print('Both models have equal MAE')"
      ]
    },
    {
      "cell_type": "code",
      "execution_count": null,
      "id": "ae4d6d3d-64b5-493a-897a-abbadaa0a6e1",
      "metadata": {
        "id": "ae4d6d3d-64b5-493a-897a-abbadaa0a6e1",
        "outputId": "39d43b31-9093-4b93-b8b4-0668528e31db"
      },
      "outputs": [
        {
          "name": "stdout",
          "output_type": "stream",
          "text": [
            "Both models have equal MAE\n"
          ]
        }
      ],
      "source": [
        "if arima_mae.mean() < es_mae.mean():\n",
        "    print('ARIMA has lower MAE')\n",
        "elif arima_mae.mean() > es_mae.mean():\n",
        "    print('Exponential Smoothing has lower MAE')\n",
        "else:\n",
        "    print('Both models have equal MAE')"
      ]
    },
    {
      "cell_type": "markdown",
      "id": "2af71739-0cec-41d2-bf78-aa2e75bf22b8",
      "metadata": {
        "id": "2af71739-0cec-41d2-bf78-aa2e75bf22b8"
      },
      "source": [
        "Discussing the advantages and limitations of each model"
      ]
    },
    {
      "cell_type": "code",
      "execution_count": null,
      "id": "081f152a-b319-4561-b8e4-091bcfff0dae",
      "metadata": {
        "id": "081f152a-b319-4561-b8e4-091bcfff0dae",
        "outputId": "ebb0c211-6048-4051-9d5c-43276ddd803b"
      },
      "outputs": [
        {
          "name": "stdout",
          "output_type": "stream",
          "text": [
            "ARIMA Advantages:\n",
            "Can handle complex patterns and seasonality\n",
            "Can provide accurate long-term forecasts\n"
          ]
        }
      ],
      "source": [
        "print('ARIMA Advantages:')\n",
        "print('Can handle complex patterns and seasonality')\n",
        "print('Can provide accurate long-term forecasts')"
      ]
    },
    {
      "cell_type": "code",
      "execution_count": null,
      "id": "b55146ea-bc63-4490-8626-e74277454551",
      "metadata": {
        "id": "b55146ea-bc63-4490-8626-e74277454551",
        "outputId": "26c9953b-0434-44a7-d368-1e89381ff45f"
      },
      "outputs": [
        {
          "name": "stdout",
          "output_type": "stream",
          "text": [
            "ARIMA Limitations:\n",
            "Requires careful parameter tuning\n",
            "Can be sensitive to outliers and missing values\n"
          ]
        }
      ],
      "source": [
        "print('ARIMA Limitations:')\n",
        "print('Requires careful parameter tuning')\n",
        "print('Can be sensitive to outliers and missing values')"
      ]
    },
    {
      "cell_type": "code",
      "execution_count": null,
      "id": "eecb85f4-5e74-494c-9563-b71d39bd701f",
      "metadata": {
        "id": "eecb85f4-5e74-494c-9563-b71d39bd701f",
        "outputId": "3eb54ccb-d1f3-4522-9322-b816723ffdf7"
      },
      "outputs": [
        {
          "name": "stdout",
          "output_type": "stream",
          "text": [
            "Exponential Smoothing Advantages:\n",
            "Simple and easy to implement\n",
            "Can handle missing values and outliers\n"
          ]
        }
      ],
      "source": [
        "print('Exponential Smoothing Advantages:')\n",
        "print('Simple and easy to implement')\n",
        "print('Can handle missing values and outliers')"
      ]
    },
    {
      "cell_type": "code",
      "execution_count": null,
      "id": "f3808b7a-002b-44bc-9ccd-1e775c002a6b",
      "metadata": {
        "id": "f3808b7a-002b-44bc-9ccd-1e775c002a6b",
        "outputId": "5f98f6d1-6959-4abc-f779-45cc56652c34"
      },
      "outputs": [
        {
          "name": "stdout",
          "output_type": "stream",
          "text": [
            "Exponential Smoothing Limitations:\n",
            "Assumes a constant trend and seasonality\n",
            "May not perform well with complex patterns\n"
          ]
        }
      ],
      "source": [
        "print('Exponential Smoothing Limitations:')\n",
        "print('Assumes a constant trend and seasonality')\n",
        "print('May not perform well with complex patterns')"
      ]
    },
    {
      "cell_type": "markdown",
      "id": "763b4935-45a3-44b8-af8e-76623c56dec8",
      "metadata": {
        "id": "763b4935-45a3-44b8-af8e-76623c56dec8"
      },
      "source": [
        "Conclusion"
      ]
    },
    {
      "cell_type": "markdown",
      "id": "0338c81a-ad6f-4c2e-90c5-ae2ad8f3b32a",
      "metadata": {
        "id": "0338c81a-ad6f-4c2e-90c5-ae2ad8f3b32a"
      },
      "source": [
        "Summarizing the findings"
      ]
    },
    {
      "cell_type": "code",
      "execution_count": null,
      "id": "71c1499e-28fa-46fa-ad0c-6f8257ecd957",
      "metadata": {
        "id": "71c1499e-28fa-46fa-ad0c-6f8257ecd957",
        "outputId": "190963a4-40c0-4f22-baf7-e94de25946f3"
      },
      "outputs": [
        {
          "name": "stdout",
          "output_type": "stream",
          "text": [
            "Summary:\n",
            "ARIMA and Exponential Smoothing models were compared for forecasting exchange rates\n",
            "Error metrics (MAE, RMSE, MAPE) were used to evaluate the models\n"
          ]
        }
      ],
      "source": [
        "print('Summary:')\n",
        "print('ARIMA and Exponential Smoothing models were compared for forecasting exchange rates')\n",
        "print('Error metrics (MAE, RMSE, MAPE) were used to evaluate the models')"
      ]
    },
    {
      "cell_type": "markdown",
      "id": "d4353020-6b80-410c-a9f3-b250d1fa0001",
      "metadata": {
        "id": "d4353020-6b80-410c-a9f3-b250d1fa0001"
      },
      "source": [
        "Provide insights on the best-performing model"
      ]
    },
    {
      "cell_type": "code",
      "execution_count": null,
      "id": "1a554b94-81d5-413a-8b0e-c5f38bcf852e",
      "metadata": {
        "id": "1a554b94-81d5-413a-8b0e-c5f38bcf852e",
        "outputId": "ad0cc786-c2dd-4b8e-ff6e-e83ac8cad9b3"
      },
      "outputs": [
        {
          "name": "stdout",
          "output_type": "stream",
          "text": [
            "Both models performed equally well for forecasting exchange rates\n"
          ]
        }
      ],
      "source": [
        "if (arima_mae.mean() < es_mae.mean()) and (arima_rmse.mean() < es_rmse.mean()) and (arima_mape.mean() < es_mape.mean()):\n",
        "    print('ARIMA model yielded the best performance for forecasting exchange rates')\n",
        "elif (es_mae.mean() < arima_mae.mean()) and (es_rmse.mean() < arima_rmse.mean()) and (es_mape.mean() < arima_mape.mean()):\n",
        "    print('Exponential Smoothing model yielded the best performance for forecasting exchange rates')\n",
        "else:\n",
        "    print('Both models performed equally well for forecasting exchange rates')"
      ]
    }
  ],
  "metadata": {
    "kernelspec": {
      "display_name": "Python 3 (ipykernel)",
      "language": "python",
      "name": "python3"
    },
    "language_info": {
      "codemirror_mode": {
        "name": "ipython",
        "version": 3
      },
      "file_extension": ".py",
      "mimetype": "text/x-python",
      "name": "python",
      "nbconvert_exporter": "python",
      "pygments_lexer": "ipython3",
      "version": "3.11.5"
    },
    "colab": {
      "provenance": []
    }
  },
  "nbformat": 4,
  "nbformat_minor": 5
}