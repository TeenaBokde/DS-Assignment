{
  "nbformat": 4,
  "nbformat_minor": 0,
  "metadata": {
    "colab": {
      "provenance": []
    },
    "kernelspec": {
      "name": "python3",
      "display_name": "Python 3"
    },
    "language_info": {
      "name": "python"
    }
  },
  "cells": [
    {
      "cell_type": "markdown",
      "source": [
        "**Teena Bokde**\n",
        "**Data Science - Batch Oct 2024 (Pune) - Assignment 2**\n",
        "**Basic Stats - 2**"
      ],
      "metadata": {
        "id": "nBVVaKgKbDxR"
      }
    },
    {
      "cell_type": "markdown",
      "source": [
        "**`Task a: Build 99% Confidence Interval Using Sample Standard Deviation`**"
      ],
      "metadata": {
        "id": "z9AvbojDbqMK"
      }
    },
    {
      "cell_type": "markdown",
      "source": [
        "Step 1: Calculating the sample mean and sample standard deviation of the durability data.\n",
        "\n",
        "Defining Durability data"
      ],
      "metadata": {
        "id": "uUVOaNSwbaoI"
      }
    },
    {
      "cell_type": "code",
      "source": [
        "import numpy as np"
      ],
      "metadata": {
        "id": "zjnb7WDcc8IT"
      },
      "execution_count": 1,
      "outputs": []
    },
    {
      "cell_type": "code",
      "source": [
        "durability_data = np.array([1.13, 1.55, 1.43, 0.92, 1.25, 1.36, 1.32, 0.85, 1.07, 1.48, 1.20, 1.33, 1.18, 1.22, 1.29])"
      ],
      "metadata": {
        "id": "F2IZ2CPHdHU6"
      },
      "execution_count": 2,
      "outputs": []
    },
    {
      "cell_type": "code",
      "source": [
        "print(durability_data)"
      ],
      "metadata": {
        "colab": {
          "base_uri": "https://localhost:8080/"
        },
        "id": "gpR92NGndKsx",
        "outputId": "a2153bb9-9499-4d1c-9b40-63425c78e924"
      },
      "execution_count": 3,
      "outputs": [
        {
          "output_type": "stream",
          "name": "stdout",
          "text": [
            "[1.13 1.55 1.43 0.92 1.25 1.36 1.32 0.85 1.07 1.48 1.2  1.33 1.18 1.22\n",
            " 1.29]\n"
          ]
        }
      ]
    },
    {
      "cell_type": "markdown",
      "source": [
        "Calculating sample Mean"
      ],
      "metadata": {
        "id": "EvaNg7_qdOW7"
      }
    },
    {
      "cell_type": "code",
      "source": [
        "sample_mean = np.mean(durability_data)"
      ],
      "metadata": {
        "id": "v60s-eX2dRMl"
      },
      "execution_count": 4,
      "outputs": []
    },
    {
      "cell_type": "code",
      "source": [
        "print(sample_mean)"
      ],
      "metadata": {
        "colab": {
          "base_uri": "https://localhost:8080/"
        },
        "id": "hcfzCc4udWVO",
        "outputId": "846ec80f-8174-427b-c147-9f8cff8f562b"
      },
      "execution_count": 5,
      "outputs": [
        {
          "output_type": "stream",
          "name": "stdout",
          "text": [
            "1.2386666666666666\n"
          ]
        }
      ]
    },
    {
      "cell_type": "markdown",
      "source": [
        "Calculating sample Standard Deviation"
      ],
      "metadata": {
        "id": "TUnXo4WWdcQ_"
      }
    },
    {
      "cell_type": "code",
      "source": [
        "sample_std_dev = np.std(durability_data, ddof=1)     #Here I have used ddof=1 for sample standard deviation"
      ],
      "metadata": {
        "id": "u7P2h2WNdg_P"
      },
      "execution_count": 6,
      "outputs": []
    },
    {
      "cell_type": "code",
      "source": [
        "print(sample_std_dev)"
      ],
      "metadata": {
        "colab": {
          "base_uri": "https://localhost:8080/"
        },
        "id": "7p0L3e8adlQQ",
        "outputId": "12b69aae-82f6-486f-8b2a-07be3ef34aa1"
      },
      "execution_count": 7,
      "outputs": [
        {
          "output_type": "stream",
          "name": "stdout",
          "text": [
            "0.19316412956959936\n"
          ]
        }
      ]
    },
    {
      "cell_type": "markdown",
      "source": [
        "Step 2: Determining Degrees Of Freedom for the t-distribution"
      ],
      "metadata": {
        "id": "KtmpyB7XdpZy"
      }
    },
    {
      "cell_type": "markdown",
      "source": [
        "Since I have a sample size of 15, the degrees of freedom is 14 (n-1)"
      ],
      "metadata": {
        "id": "aJ_HFKNNdtim"
      }
    },
    {
      "cell_type": "code",
      "source": [
        "degrees_of_freedom = len(durability_data) - 1"
      ],
      "metadata": {
        "id": "i0H77sdfd3Rh"
      },
      "execution_count": 8,
      "outputs": []
    },
    {
      "cell_type": "code",
      "source": [
        "print(degrees_of_freedom)"
      ],
      "metadata": {
        "colab": {
          "base_uri": "https://localhost:8080/"
        },
        "id": "4ZjYkfZZd7EB",
        "outputId": "a6704df6-5f8b-4879-b815-8ec2414af620"
      },
      "execution_count": 9,
      "outputs": [
        {
          "output_type": "stream",
          "name": "stdout",
          "text": [
            "14\n"
          ]
        }
      ]
    },
    {
      "cell_type": "markdown",
      "source": [
        "Step 3: Choosing a confidence level of 99% and finding the corresponding critical t-value using a t-distribution table or calculator."
      ],
      "metadata": {
        "id": "QeTBRlRneBYJ"
      }
    },
    {
      "cell_type": "code",
      "source": [
        "from scipy.stats import t"
      ],
      "metadata": {
        "id": "jM_0cP_9eEMR"
      },
      "execution_count": 10,
      "outputs": []
    },
    {
      "cell_type": "markdown",
      "source": [
        "Defining the confidence level"
      ],
      "metadata": {
        "id": "BqET8_I-eKZ-"
      }
    },
    {
      "cell_type": "code",
      "source": [
        "confidence_level = 0.99"
      ],
      "metadata": {
        "id": "c0KTUKxGeMo8"
      },
      "execution_count": 11,
      "outputs": []
    },
    {
      "cell_type": "markdown",
      "source": [
        "Calculating the critical t-value"
      ],
      "metadata": {
        "id": "nesw8y-4eSsg"
      }
    },
    {
      "cell_type": "code",
      "source": [
        "critical_t_value = t.ppf((1 + confidence_level) / 2, degrees_of_freedom)\n",
        "print(critical_t_value)"
      ],
      "metadata": {
        "colab": {
          "base_uri": "https://localhost:8080/"
        },
        "id": "C4AKrH13eVie",
        "outputId": "b97ea0da-52b7-4ee5-930f-c9c623f4b491"
      },
      "execution_count": 12,
      "outputs": [
        {
          "output_type": "stream",
          "name": "stdout",
          "text": [
            "2.976842734370834\n"
          ]
        }
      ]
    },
    {
      "cell_type": "markdown",
      "source": [
        "Step 4: Calculating margin of error using the critical t-value and sample standard deviation."
      ],
      "metadata": {
        "id": "8RMTN3kLeaJF"
      }
    },
    {
      "cell_type": "code",
      "source": [
        "margin_of_error = critical_t_value * (sample_std_dev / np.sqrt(len(durability_data)))\n",
        "print(margin_of_error)"
      ],
      "metadata": {
        "colab": {
          "base_uri": "https://localhost:8080/"
        },
        "id": "suGHjNnDedkn",
        "outputId": "2182437f-b640-4c8d-a560-904493e42b51"
      },
      "execution_count": 13,
      "outputs": [
        {
          "output_type": "stream",
          "name": "stdout",
          "text": [
            "0.14846932822817596\n"
          ]
        }
      ]
    },
    {
      "cell_type": "markdown",
      "source": [
        "Step 5: Constructing the 99% confidence interval by adding and subtracting the margin of error from the sample mean."
      ],
      "metadata": {
        "id": "8YyPxyvgehKB"
      }
    },
    {
      "cell_type": "code",
      "source": [
        "confidence_interval = (sample_mean - margin_of_error, sample_mean + margin_of_error)\n",
        "print(confidence_interval)"
      ],
      "metadata": {
        "colab": {
          "base_uri": "https://localhost:8080/"
        },
        "id": "Zc3pCMngekOv",
        "outputId": "f8ad8936-93b0-462b-9536-800d19d1b5d5"
      },
      "execution_count": 14,
      "outputs": [
        {
          "output_type": "stream",
          "name": "stdout",
          "text": [
            "(1.0901973384384906, 1.3871359948948425)\n"
          ]
        }
      ]
    },
    {
      "cell_type": "markdown",
      "source": [
        "**Task b: Build 99% Confidence Interval Using Known Population Standard Deviation**"
      ],
      "metadata": {
        "id": "8D8db4zdentH"
      }
    },
    {
      "cell_type": "markdown",
      "source": [
        "Step 1: Calculating sample mean of the durability data."
      ],
      "metadata": {
        "id": "lKofd0Aee2Sc"
      }
    },
    {
      "cell_type": "code",
      "source": [
        "sample_mean = np.mean(durability_data)\n",
        "print(sample_mean)"
      ],
      "metadata": {
        "colab": {
          "base_uri": "https://localhost:8080/"
        },
        "id": "InjEGOfhe6mq",
        "outputId": "e0c55752-332b-4c6f-c186-efd273acac45"
      },
      "execution_count": 15,
      "outputs": [
        {
          "output_type": "stream",
          "name": "stdout",
          "text": [
            "1.2386666666666666\n"
          ]
        }
      ]
    },
    {
      "cell_type": "markdown",
      "source": [
        "Step 2: Choosing confidence level of 99% and find the corresponding critical z-value using a standard normal distribution table or calculator."
      ],
      "metadata": {
        "id": "Iw0B4R-wfB3r"
      }
    },
    {
      "cell_type": "code",
      "source": [
        "from scipy.stats import norm"
      ],
      "metadata": {
        "id": "PBKXkRTCfDS4"
      },
      "execution_count": 16,
      "outputs": []
    },
    {
      "cell_type": "markdown",
      "source": [
        "Defining the Confidence Level"
      ],
      "metadata": {
        "id": "dPZ7KHmbfIfv"
      }
    },
    {
      "cell_type": "code",
      "source": [
        "confidence_level = 0.99"
      ],
      "metadata": {
        "id": "fMzSsCo4fTrm"
      },
      "execution_count": 17,
      "outputs": []
    },
    {
      "cell_type": "markdown",
      "source": [
        "Calculating the critical z-value"
      ],
      "metadata": {
        "id": "vj-jxl14fYJf"
      }
    },
    {
      "cell_type": "code",
      "source": [
        "critical_z_value = norm.ppf((1 + confidence_level) / 2)\n",
        "print(critical_z_value)"
      ],
      "metadata": {
        "colab": {
          "base_uri": "https://localhost:8080/"
        },
        "id": "vft_rypCfZEp",
        "outputId": "89297a85-d3f0-493b-faaf-0bebfa979521"
      },
      "execution_count": 18,
      "outputs": [
        {
          "output_type": "stream",
          "name": "stdout",
          "text": [
            "2.5758293035489004\n"
          ]
        }
      ]
    },
    {
      "cell_type": "markdown",
      "source": [
        "Step 3: Calculating the margin of error using the critical z-value and known population standard deviation."
      ],
      "metadata": {
        "id": "rA7Y_Z2DfeLQ"
      }
    },
    {
      "cell_type": "code",
      "source": [
        "margin_of_error = critical_z_value * (0.2 / np.sqrt(len(durability_data)))\n",
        "print(margin_of_error)\n"
      ],
      "metadata": {
        "colab": {
          "base_uri": "https://localhost:8080/"
        },
        "id": "n09abmoIffqQ",
        "outputId": "9923cdbe-0a33-4a02-8c8b-f875a1f5e6f3"
      },
      "execution_count": 19,
      "outputs": [
        {
          "output_type": "stream",
          "name": "stdout",
          "text": [
            "0.13301525327090588\n"
          ]
        }
      ]
    },
    {
      "cell_type": "markdown",
      "source": [
        "Step 4: Constructing the 99% confidence interval by adding and subtracting the margin of error from the sample mean."
      ],
      "metadata": {
        "id": "qlAe1AErfkyw"
      }
    },
    {
      "cell_type": "code",
      "source": [
        "confidence_interval = (sample_mean - margin_of_error, sample_mean + margin_of_error)\n",
        "print(confidence_interval)"
      ],
      "metadata": {
        "colab": {
          "base_uri": "https://localhost:8080/"
        },
        "id": "2Sk2cWTcflwJ",
        "outputId": "39e65038-1717-4901-dc27-2bfe859d7a15"
      },
      "execution_count": 20,
      "outputs": [
        {
          "output_type": "stream",
          "name": "stdout",
          "text": [
            "(1.1056514133957607, 1.3716819199375725)\n"
          ]
        }
      ]
    }
  ]
}