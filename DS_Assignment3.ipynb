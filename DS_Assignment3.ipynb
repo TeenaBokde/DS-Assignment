{
  "nbformat": 4,
  "nbformat_minor": 0,
  "metadata": {
    "colab": {
      "provenance": []
    },
    "kernelspec": {
      "name": "python3",
      "display_name": "Python 3"
    },
    "language_info": {
      "name": "python"
    }
  },
  "cells": [
    {
      "cell_type": "markdown",
      "source": [
        "### **Teena Bokde**\n",
        " **Data Science - Batch Oct 2024 (Pune) - Assignment 3**"
      ],
      "metadata": {
        "id": "56jd7ArfnPcy"
      }
    },
    {
      "cell_type": "markdown",
      "source": [
        "### **Basics of Python**\n",
        "**Coding Exercises**"
      ],
      "metadata": {
        "id": "sPuGrrEtn0Ok"
      }
    },
    {
      "cell_type": "markdown",
      "source": [
        "**Exercise 1: Prime Numbers**"
      ],
      "metadata": {
        "id": "sxo2t5eXok67"
      }
    },
    {
      "cell_type": "markdown",
      "source": [
        "Write a Python program that checks whether a given number is prime or not. A prime number is a natural number greater than 1 that has no positive divisors other than 1 and itself."
      ],
      "metadata": {
        "id": "hASHC82MooZ9"
      }
    },
    {
      "cell_type": "code",
      "source": [
        "def is_prime(n):\n",
        "    if n <= 1:\n",
        "        return False\n",
        "    for i in range(2, int(n ** 0.5) + 1):\n",
        "        if n % i == 0:\n",
        "            return False\n",
        "    return True\n",
        "\n",
        "num = int(input(\"Enter a number: \"))\n",
        "if is_prime(num):\n",
        "    print(f\"{num} is a prime number.\")\n",
        "else:\n",
        "    print(f\"{num} is not a prime number.\")"
      ],
      "metadata": {
        "colab": {
          "base_uri": "https://localhost:8080/"
        },
        "id": "8rK4_KWqo0b-",
        "outputId": "6261a179-0a98-45cf-e445-977f24049d51"
      },
      "execution_count": 1,
      "outputs": [
        {
          "output_type": "stream",
          "name": "stdout",
          "text": [
            "Enter a number: 4\n",
            "4 is not a prime number.\n"
          ]
        }
      ]
    },
    {
      "cell_type": "markdown",
      "source": [
        "Here's how the program works:\n",
        "* The is_prime function takes an integer n as input returns True if it's prime, and False otherwise.  \n",
        "* If n is less than or equal to 1, it's not prime, so we return False.\n",
        "* We loop from 2 to the square root of n (inclusive) and check if n is divisible by any of these numbers. If it is, it's not prime, so we return False.\n",
        "* If we reach the end of the loop without finding a divisor, n is prime, so we return True.\n",
        "* In the main part of the program, we ask the user to enter a number, and then call the is_prime function with that number. If it returns True, we print that the number is prime; otherwise, we print that it's not.List item\n",
        "\n",
        "\n",
        "\n",
        "\n"
      ],
      "metadata": {
        "id": "3aSNx2XQpOAv"
      }
    },
    {
      "cell_type": "markdown",
      "source": [
        "### **Exercise 2: Product of Random Numbers**"
      ],
      "metadata": {
        "id": "r-EoR1W7q6Ew"
      }
    },
    {
      "cell_type": "markdown",
      "source": [
        "Develop a Python program that generates two random numbers and asks the user to enter the product of these numbers. The program should then check if the user's answer is correct and display an appropriate message"
      ],
      "metadata": {
        "id": "Wc83opAWrCuC"
      }
    },
    {
      "cell_type": "code",
      "source": [
        "import random\n",
        "\n",
        "# Generate two random numbers between 1 and 10\n",
        "num1 = random.randint(1, 10)\n",
        "num2 = random.randint(1, 20)\n",
        "\n",
        "# Calculate the product of the two numbers\n",
        "product = num1 * num2\n",
        "\n",
        "# Ask the user to enter the product\n",
        "user_answer = int(input(f\"What is the product of {num1} and {num2}? \"))\n",
        "\n",
        "# Check if the user's answer is correct\n",
        "if user_answer == product:\n",
        "    print(\"Yeah Correct! The product is \", product)\n",
        "else:\n",
        "    print(f\"Sorry, it's incorrect. The correct answer is {product}.\")"
      ],
      "metadata": {
        "colab": {
          "base_uri": "https://localhost:8080/"
        },
        "id": "FxNyfGFrrJcG",
        "outputId": "ead8cb2c-e619-40c6-eb12-b874252feddc"
      },
      "execution_count": 2,
      "outputs": [
        {
          "output_type": "stream",
          "name": "stdout",
          "text": [
            "What is the product of 8 and 13? 104\n",
            "Yeah Correct! The product is  104\n"
          ]
        }
      ]
    },
    {
      "cell_type": "markdown",
      "source": [
        "Here's how the program works:\n",
        "* I import the random module to generate random numbers.   \n",
        "* I generate two random numbers between 1 and 10 using random.randint(1, 10).  \n",
        "* I calculate the product of the two numbers using the * operator.   \n",
        "* I ask the user to enter the product of the two numbers using input() and store their response in the user_answer variable.\n",
        "* I convert the user's input to an integer using int(), since input() returns a string by default.   \n",
        "* I check if the user's answer is correct by comparing it to the calculated product using an if statement.   \n",
        "* If the user's answer is correct, I print a success message. If not, I print an error message with the correct answer.   \n",
        "\n",
        "\n",
        "\n",
        "\n",
        "\n"
      ],
      "metadata": {
        "id": "Pxd7BjUYrVPn"
      }
    },
    {
      "cell_type": "markdown",
      "source": [
        "### **Exercise 3: Squares of Even/Odd Numbers**"
      ],
      "metadata": {
        "id": "1TORnh-BsSmg"
      }
    },
    {
      "cell_type": "markdown",
      "source": [
        "Create a Python script that prints the squares of all even or odd numbers within the range of 100 to 200. Choose either even or odd numbers and document your choice in the code."
      ],
      "metadata": {
        "id": "7CK0dGSUsclQ"
      }
    },
    {
      "cell_type": "markdown",
      "source": [
        "Prints the square of Odd Numbers between 100 and 200."
      ],
      "metadata": {
        "id": "df0mE3dvsf17"
      }
    },
    {
      "cell_type": "code",
      "source": [
        "#Using a for loop to iterate over the range of numbers\n",
        "# This prints the squares of odd numbers between 100 and 200.\n",
        "for num in range(100, 201):\n",
        "    if num % 2 != 0:\n",
        "        sqr = num ** 2\n",
        "        print(f\"The square of {num} is {sqr}\")"
      ],
      "metadata": {
        "colab": {
          "base_uri": "https://localhost:8080/"
        },
        "id": "FyKtFc_Dsj_9",
        "outputId": "6f1e4793-c5cb-41e7-9312-9a5ecef83f52"
      },
      "execution_count": 3,
      "outputs": [
        {
          "output_type": "stream",
          "name": "stdout",
          "text": [
            "The square of 101 is 10201\n",
            "The square of 103 is 10609\n",
            "The square of 105 is 11025\n",
            "The square of 107 is 11449\n",
            "The square of 109 is 11881\n",
            "The square of 111 is 12321\n",
            "The square of 113 is 12769\n",
            "The square of 115 is 13225\n",
            "The square of 117 is 13689\n",
            "The square of 119 is 14161\n",
            "The square of 121 is 14641\n",
            "The square of 123 is 15129\n",
            "The square of 125 is 15625\n",
            "The square of 127 is 16129\n",
            "The square of 129 is 16641\n",
            "The square of 131 is 17161\n",
            "The square of 133 is 17689\n",
            "The square of 135 is 18225\n",
            "The square of 137 is 18769\n",
            "The square of 139 is 19321\n",
            "The square of 141 is 19881\n",
            "The square of 143 is 20449\n",
            "The square of 145 is 21025\n",
            "The square of 147 is 21609\n",
            "The square of 149 is 22201\n",
            "The square of 151 is 22801\n",
            "The square of 153 is 23409\n",
            "The square of 155 is 24025\n",
            "The square of 157 is 24649\n",
            "The square of 159 is 25281\n",
            "The square of 161 is 25921\n",
            "The square of 163 is 26569\n",
            "The square of 165 is 27225\n",
            "The square of 167 is 27889\n",
            "The square of 169 is 28561\n",
            "The square of 171 is 29241\n",
            "The square of 173 is 29929\n",
            "The square of 175 is 30625\n",
            "The square of 177 is 31329\n",
            "The square of 179 is 32041\n",
            "The square of 181 is 32761\n",
            "The square of 183 is 33489\n",
            "The square of 185 is 34225\n",
            "The square of 187 is 34969\n",
            "The square of 189 is 35721\n",
            "The square of 191 is 36481\n",
            "The square of 193 is 37249\n",
            "The square of 195 is 38025\n",
            "The square of 197 is 38809\n",
            "The square of 199 is 39601\n"
          ]
        }
      ]
    },
    {
      "cell_type": "code",
      "source": [
        "# I am going to Use a for loop to iterate over the range of numbers\n",
        "# This script prints the squares of all even numbers within the range of 100 to 200.\n",
        "\n",
        "for num in range(100, 201):\n",
        "    if num % 2 == 0:\n",
        "        sqr = num ** 2\n",
        "        print(f\"The square of {num} is {sqr}\")"
      ],
      "metadata": {
        "colab": {
          "base_uri": "https://localhost:8080/"
        },
        "id": "Qu-qbs4GssIq",
        "outputId": "f326156e-1eda-401f-8284-90902bd85f59"
      },
      "execution_count": 4,
      "outputs": [
        {
          "output_type": "stream",
          "name": "stdout",
          "text": [
            "The square of 100 is 10000\n",
            "The square of 102 is 10404\n",
            "The square of 104 is 10816\n",
            "The square of 106 is 11236\n",
            "The square of 108 is 11664\n",
            "The square of 110 is 12100\n",
            "The square of 112 is 12544\n",
            "The square of 114 is 12996\n",
            "The square of 116 is 13456\n",
            "The square of 118 is 13924\n",
            "The square of 120 is 14400\n",
            "The square of 122 is 14884\n",
            "The square of 124 is 15376\n",
            "The square of 126 is 15876\n",
            "The square of 128 is 16384\n",
            "The square of 130 is 16900\n",
            "The square of 132 is 17424\n",
            "The square of 134 is 17956\n",
            "The square of 136 is 18496\n",
            "The square of 138 is 19044\n",
            "The square of 140 is 19600\n",
            "The square of 142 is 20164\n",
            "The square of 144 is 20736\n",
            "The square of 146 is 21316\n",
            "The square of 148 is 21904\n",
            "The square of 150 is 22500\n",
            "The square of 152 is 23104\n",
            "The square of 154 is 23716\n",
            "The square of 156 is 24336\n",
            "The square of 158 is 24964\n",
            "The square of 160 is 25600\n",
            "The square of 162 is 26244\n",
            "The square of 164 is 26896\n",
            "The square of 166 is 27556\n",
            "The square of 168 is 28224\n",
            "The square of 170 is 28900\n",
            "The square of 172 is 29584\n",
            "The square of 174 is 30276\n",
            "The square of 176 is 30976\n",
            "The square of 178 is 31684\n",
            "The square of 180 is 32400\n",
            "The square of 182 is 33124\n",
            "The square of 184 is 33856\n",
            "The square of 186 is 34596\n",
            "The square of 188 is 35344\n",
            "The square of 190 is 36100\n",
            "The square of 192 is 36864\n",
            "The square of 194 is 37636\n",
            "The square of 196 is 38416\n",
            "The square of 198 is 39204\n",
            "The square of 200 is 40000\n"
          ]
        }
      ]
    },
    {
      "cell_type": "markdown",
      "source": [
        "### **Exercise 4: Word counter**"
      ],
      "metadata": {
        "id": "WB2lj5Y0su2N"
      }
    },
    {
      "cell_type": "code",
      "source": [
        "def count_words(input_text):\n",
        "    # Split the input text into individual words\n",
        "    words = input_text.split()\n",
        "\n",
        "    # Create a dictionary to store the word counts\n",
        "    word_counts = {}\n",
        "\n",
        "    # Iterate over the words and count their occurrences\n",
        "    for word in words:\n",
        "        # Remove punctuation from the word\n",
        "        word = word.strip('.,;:!?\"\\'')\n",
        "        # Convert the word to lowercase\n",
        "        word = word.lower()\n",
        "        # If the word is already in the dictionary, increment its count\n",
        "        if word in word_counts:\n",
        "            word_counts[word] += 1\n",
        "        # Otherwise, add the word to the dictionary with a count of 1\n",
        "        else:\n",
        "            word_counts[word] = 1\n",
        "\n",
        "    # Print the word counts\n",
        "    for word, count in word_counts.items():\n",
        "        print(f\"'{word}': {count}\")\n",
        "\n",
        "# Example usage\n",
        "input_text = \"This is a sample text. This text will be used to demonstrate the word counter.\"\n",
        "count_words(input_text)"
      ],
      "metadata": {
        "colab": {
          "base_uri": "https://localhost:8080/"
        },
        "id": "Y8jtpwn8s1Qq",
        "outputId": "9214bc55-3a1e-4c42-b840-5cb41ac1e8f3"
      },
      "execution_count": 5,
      "outputs": [
        {
          "output_type": "stream",
          "name": "stdout",
          "text": [
            "'this': 2\n",
            "'is': 1\n",
            "'a': 1\n",
            "'sample': 1\n",
            "'text': 2\n",
            "'will': 1\n",
            "'be': 1\n",
            "'used': 1\n",
            "'to': 1\n",
            "'demonstrate': 1\n",
            "'the': 1\n",
            "'word': 1\n",
            "'counter': 1\n"
          ]
        }
      ]
    },
    {
      "cell_type": "markdown",
      "source": [
        "Here's how the program works:\n",
        "*  The count_words function takes an input text as a string.\n",
        "*  I split the input text into individual words using the split() method, which splits on whitespace characters by default.\n",
        "*  I create an empty dictionary word_counts to store the word counts.\n",
        "*  I iterate over the words and count their occurrences using a for loop.\n",
        "*  For each word, I remove punctuation using the strip() method and convert the word to lowercase using the lower() method.\n",
        "*  I check if the word is already in the word_counts dictionary. If it is, I increment its count by 1. If not, I add the word to the dictionary with a count of 1.\n",
        "*  Finally, we print the word counts using a for loop that iterates over the word_counts dictionary.\n",
        "\n",
        "\n",
        "\n",
        "\n",
        "\n",
        "\n",
        "\n",
        "\n"
      ],
      "metadata": {
        "id": "BmSih5gAs8A-"
      }
    },
    {
      "cell_type": "markdown",
      "source": [
        "### **Exercise 5: Check for Palindrome**"
      ],
      "metadata": {
        "id": "9UY0cvRit7aO"
      }
    },
    {
      "cell_type": "markdown",
      "source": [
        "Write a Python function called is_palindrome that takes a string as input and returns True if the string is a palindrome, and False otherwise. A palindrome is a word, phrase, number, or other sequence of characters that reads the same forward and backward, ignoring spaces, punctuation, and capitalization."
      ],
      "metadata": {
        "id": "d30uf9bat-oK"
      }
    },
    {
      "cell_type": "code",
      "source": [
        "def is_palindrome(input_string):\n",
        "    new_string = input_string.lower().replace(\" \", \"\")\n",
        "    reverse_string = new_string[::-1]\n",
        "    if new_string == reverse_string:\n",
        "        return True\n",
        "    return False\n",
        "print(is_palindrome(\"ABC\"))  # Returns: False\n",
        "print(is_palindrome(\"racecar\"))  # Returns: True"
      ],
      "metadata": {
        "colab": {
          "base_uri": "https://localhost:8080/"
        },
        "id": "19DFVTtbuDG2",
        "outputId": "980dd08b-b8a7-457e-8ede-a8ae11dacb0c"
      },
      "execution_count": 6,
      "outputs": [
        {
          "output_type": "stream",
          "name": "stdout",
          "text": [
            "False\n",
            "True\n"
          ]
        }
      ]
    },
    {
      "cell_type": "markdown",
      "source": [
        "* The is_palindrome function converts the input string to lowercase, removes any spaces, and creates a new string with the reversed contents of the initial string (ignoring cases and spaces).  \n",
        "* If both strings match, the function returns True, indicating that the input string is indeed a palindrome. Otherwise, the function returns False.\n",
        "\n"
      ],
      "metadata": {
        "id": "M_ZCPhp7uIWZ"
      }
    }
  ]
}