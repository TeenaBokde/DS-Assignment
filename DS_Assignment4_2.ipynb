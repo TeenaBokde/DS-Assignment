{
  "nbformat": 4,
  "nbformat_minor": 0,
  "metadata": {
    "colab": {
      "provenance": []
    },
    "kernelspec": {
      "name": "python3",
      "display_name": "Python 3"
    },
    "language_info": {
      "name": "python"
    }
  },
  "cells": [
    {
      "cell_type": "markdown",
      "source": [
        "# **Teena Bokde**\n",
        "**Data Science - Batch Oct 2024 (Pune) - Assignment 4**\n",
        "### **HYPOTHESIS TESTING(HYPOTHESIS TESTING)**"
      ],
      "metadata": {
        "id": "VFHz4qX7FJJS"
      }
    },
    {
      "cell_type": "code",
      "source": [
        "import numpy as np\n",
        "from scipy.stats import norm"
      ],
      "metadata": {
        "id": "Moz8mVIjFckW"
      },
      "execution_count": 1,
      "outputs": []
    },
    {
      "cell_type": "markdown",
      "source": [
        "1.State the Hypotheses statement"
      ],
      "metadata": {
        "id": "sXFNNcCSFos3"
      }
    },
    {
      "cell_type": "code",
      "source": [
        "print(\"H0: μ = $1,000 + $5X (theoretical mean weekly cost)\")\n",
        "print(\"H1: μ > $1,000 + $5X (observed mean weekly cost is higher)\")"
      ],
      "metadata": {
        "colab": {
          "base_uri": "https://localhost:8080/"
        },
        "id": "wrpCkUpbFuYA",
        "outputId": "67fc298e-0528-4668-938a-8e80b5ae5603"
      },
      "execution_count": 2,
      "outputs": [
        {
          "output_type": "stream",
          "name": "stdout",
          "text": [
            "H0: μ = $1,000 + $5X (theoretical mean weekly cost)\n",
            "H1: μ > $1,000 + $5X (observed mean weekly cost is higher)\n"
          ]
        }
      ]
    },
    {
      "cell_type": "markdown",
      "source": [
        "2.Calculate the Test Statistic"
      ],
      "metadata": {
        "id": "KzphKGubFwti"
      }
    },
    {
      "cell_type": "code",
      "source": [
        "sample_mean = 3050  # sample mean weekly cost\n",
        "theoretical_mean = 1000 + 5 * 600  # theoretical mean weekly cost\n",
        "std_dev = 5 * 25  # standard deviation\n",
        "sample_size = 25  # sample size\n",
        "\n",
        "print(\"Sample Mean = \", sample_mean)\n",
        "print( \"Theoretical Mean = \", theoretical_mean)\n",
        "print(\"Standard Deviation = \", std_dev)\n",
        "print(\"Sample Size = \", sample_size)"
      ],
      "metadata": {
        "colab": {
          "base_uri": "https://localhost:8080/"
        },
        "id": "1s2ltPARF2Rx",
        "outputId": "efbea222-dbdb-49e6-d86e-59c7255481d5"
      },
      "execution_count": 3,
      "outputs": [
        {
          "output_type": "stream",
          "name": "stdout",
          "text": [
            "Sample Mean =  3050\n",
            "Theoretical Mean =  4000\n",
            "Standard Deviation =  125\n",
            "Sample Size =  25\n"
          ]
        }
      ]
    },
    {
      "cell_type": "code",
      "source": [
        "test_statistic = (sample_mean - theoretical_mean) / (std_dev / np.sqrt(sample_size))\n",
        "print(f\"Test Statistic (t) = {test_statistic:.4f}\")"
      ],
      "metadata": {
        "colab": {
          "base_uri": "https://localhost:8080/"
        },
        "id": "LWOBMSniF890",
        "outputId": "d908befe-8aac-4dbd-8b8e-5940e3cc8cd5"
      },
      "execution_count": 4,
      "outputs": [
        {
          "output_type": "stream",
          "name": "stdout",
          "text": [
            "Test Statistic (t) = -38.0000\n"
          ]
        }
      ]
    },
    {
      "cell_type": "markdown",
      "source": [
        "3.Determine the Critical Value"
      ],
      "metadata": {
        "id": "Z63huY8ZGCfv"
      }
    },
    {
      "cell_type": "code",
      "source": [
        "alpha = 0.05  # alpha level\n",
        "critical_value = norm.ppf(1 - alpha)  # critical value from standard normal distribution\n",
        "print(f\"Critical Value (Z) = {critical_value:.4f}\")"
      ],
      "metadata": {
        "colab": {
          "base_uri": "https://localhost:8080/"
        },
        "id": "5KZPRBB9GGod",
        "outputId": "b398c832-fae9-4c72-9fc7-1dacbae5d22a"
      },
      "execution_count": 5,
      "outputs": [
        {
          "output_type": "stream",
          "name": "stdout",
          "text": [
            "Critical Value (Z) = 1.6449\n"
          ]
        }
      ]
    },
    {
      "cell_type": "markdown",
      "source": [
        "4.Make a Decision"
      ],
      "metadata": {
        "id": "-V3A4_IcGMDM"
      }
    },
    {
      "cell_type": "code",
      "source": [
        "if test_statistic > critical_value:\n",
        "    print(\"Reject the null hypothesis (H0)\")\n",
        "else:\n",
        "    print(\"Fail to reject the null hypothesis (H0)\")"
      ],
      "metadata": {
        "colab": {
          "base_uri": "https://localhost:8080/"
        },
        "id": "ORwihkk_GNqX",
        "outputId": "0227b700-80ad-467f-c281-af490bfc72e4"
      },
      "execution_count": 6,
      "outputs": [
        {
          "output_type": "stream",
          "name": "stdout",
          "text": [
            "Fail to reject the null hypothesis (H0)\n"
          ]
        }
      ]
    },
    {
      "cell_type": "markdown",
      "source": [
        "5.Conclusion"
      ],
      "metadata": {
        "id": "np1F5cxUGTOP"
      }
    },
    {
      "cell_type": "code",
      "source": [
        "if test_statistic > critical_value:\n",
        "    print(\"There is strong evidence to support the restaurant owners' claim that the weekly operating costs are higher than the model suggests.\")\n",
        "else:\n",
        "    print(\"There is not enough evidence to support the restaurant owners' claim that the weekly operating costs are higher than the model suggests.\")"
      ],
      "metadata": {
        "colab": {
          "base_uri": "https://localhost:8080/"
        },
        "id": "Z3CssBDrGZ5S",
        "outputId": "b1f36630-3dce-4362-a269-f5e76227c754"
      },
      "execution_count": 7,
      "outputs": [
        {
          "output_type": "stream",
          "name": "stdout",
          "text": [
            "There is not enough evidence to support the restaurant owners' claim that the weekly operating costs are higher than the model suggests.\n"
          ]
        }
      ]
    }
  ]
}